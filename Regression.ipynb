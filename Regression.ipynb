{
 "cells": [
  {
   "cell_type": "markdown",
   "id": "3d2155c8-1c46-4346-9838-30aafcab1824",
   "metadata": {},
   "source": [
    "# Linear Regression\n",
    "\n",
    "_Reference:_\n",
    "[Julia Programming For Data Science & Machine Learning: Julia | Udemy](https://www.udemy.com/course/julialang/)"
   ]
  },
  {
   "cell_type": "markdown",
   "id": "c2c8f3d7-b4e5-428d-ba9c-c1dd26e46183",
   "metadata": {},
   "source": [
    "## Case 1\n",
    "\n",
    "Given a dataset of Promote and Sales, predict how Promotion (marketing) budget can affect sales"
   ]
  },
  {
   "cell_type": "code",
   "execution_count": 1,
   "id": "1f490dc6-470f-4bfb-a997-466cd2011c8e",
   "metadata": {},
   "outputs": [],
   "source": [
    "using Pkg\n",
    "using CSV, DataFrames"
   ]
  },
  {
   "cell_type": "code",
   "execution_count": 2,
   "id": "50aec82a-9a91-4621-ae9f-ebff3bbbbf12",
   "metadata": {},
   "outputs": [
    {
     "data": {
      "text/html": [
       "<div><div style = \"float: left;\"><span>19×2 DataFrame</span></div><div style = \"clear: both;\"></div></div><div class = \"data-frame\" style = \"overflow-x: scroll;\"><table class = \"data-frame\" style = \"margin-bottom: 6px;\"><thead><tr class = \"header\"><th class = \"rowNumber\" style = \"font-weight: bold; text-align: right;\">Row</th><th style = \"text-align: left;\">Promote</th><th style = \"text-align: left;\">Sales</th></tr><tr class = \"subheader headerLastRow\"><th class = \"rowNumber\" style = \"font-weight: bold; text-align: right;\"></th><th title = \"Int64\" style = \"text-align: left;\">Int64</th><th title = \"Int64\" style = \"text-align: left;\">Int64</th></tr></thead><tbody><tr><td class = \"rowNumber\" style = \"font-weight: bold; text-align: right;\">1</td><td style = \"text-align: right;\">23</td><td style = \"text-align: right;\">554</td></tr><tr><td class = \"rowNumber\" style = \"font-weight: bold; text-align: right;\">2</td><td style = \"text-align: right;\">56</td><td style = \"text-align: right;\">1339</td></tr><tr><td class = \"rowNumber\" style = \"font-weight: bold; text-align: right;\">3</td><td style = \"text-align: right;\">34</td><td style = \"text-align: right;\">815</td></tr><tr><td class = \"rowNumber\" style = \"font-weight: bold; text-align: right;\">4</td><td style = \"text-align: right;\">25</td><td style = \"text-align: right;\">609</td></tr><tr><td class = \"rowNumber\" style = \"font-weight: bold; text-align: right;\">5</td><td style = \"text-align: right;\">67</td><td style = \"text-align: right;\">1600</td></tr><tr><td class = \"rowNumber\" style = \"font-weight: bold; text-align: right;\">6</td><td style = \"text-align: right;\">82</td><td style = \"text-align: right;\">2000</td></tr><tr><td class = \"rowNumber\" style = \"font-weight: bold; text-align: right;\">7</td><td style = \"text-align: right;\">46</td><td style = \"text-align: right;\">1000</td></tr><tr><td class = \"rowNumber\" style = \"font-weight: bold; text-align: right;\">8</td><td style = \"text-align: right;\">14</td><td style = \"text-align: right;\">300</td></tr><tr><td class = \"rowNumber\" style = \"font-weight: bold; text-align: right;\">9</td><td style = \"text-align: right;\">6</td><td style = \"text-align: right;\">150</td></tr><tr><td class = \"rowNumber\" style = \"font-weight: bold; text-align: right;\">10</td><td style = \"text-align: right;\">47</td><td style = \"text-align: right;\">1150</td></tr><tr><td class = \"rowNumber\" style = \"font-weight: bold; text-align: right;\">11</td><td style = \"text-align: right;\">52</td><td style = \"text-align: right;\">1200</td></tr><tr><td class = \"rowNumber\" style = \"font-weight: bold; text-align: right;\">12</td><td style = \"text-align: right;\">88</td><td style = \"text-align: right;\">2000</td></tr><tr><td class = \"rowNumber\" style = \"font-weight: bold; text-align: right;\">13</td><td style = \"text-align: right;\">71</td><td style = \"text-align: right;\">1750</td></tr><tr><td class = \"rowNumber\" style = \"font-weight: bold; text-align: right;\">14</td><td style = \"text-align: right;\">78</td><td style = \"text-align: right;\">2000</td></tr><tr><td class = \"rowNumber\" style = \"font-weight: bold; text-align: right;\">15</td><td style = \"text-align: right;\">66</td><td style = \"text-align: right;\">1500</td></tr><tr><td class = \"rowNumber\" style = \"font-weight: bold; text-align: right;\">16</td><td style = \"text-align: right;\">44</td><td style = \"text-align: right;\">1000</td></tr><tr><td class = \"rowNumber\" style = \"font-weight: bold; text-align: right;\">17</td><td style = \"text-align: right;\">68</td><td style = \"text-align: right;\">1600</td></tr><tr><td class = \"rowNumber\" style = \"font-weight: bold; text-align: right;\">18</td><td style = \"text-align: right;\">90</td><td style = \"text-align: right;\">2000</td></tr><tr><td class = \"rowNumber\" style = \"font-weight: bold; text-align: right;\">19</td><td style = \"text-align: right;\">22</td><td style = \"text-align: right;\">550</td></tr></tbody></table></div>"
      ],
      "text/latex": [
       "\\begin{tabular}{r|cc}\n",
       "\t& Promote & Sales\\\\\n",
       "\t\\hline\n",
       "\t& Int64 & Int64\\\\\n",
       "\t\\hline\n",
       "\t1 & 23 & 554 \\\\\n",
       "\t2 & 56 & 1339 \\\\\n",
       "\t3 & 34 & 815 \\\\\n",
       "\t4 & 25 & 609 \\\\\n",
       "\t5 & 67 & 1600 \\\\\n",
       "\t6 & 82 & 2000 \\\\\n",
       "\t7 & 46 & 1000 \\\\\n",
       "\t8 & 14 & 300 \\\\\n",
       "\t9 & 6 & 150 \\\\\n",
       "\t10 & 47 & 1150 \\\\\n",
       "\t11 & 52 & 1200 \\\\\n",
       "\t12 & 88 & 2000 \\\\\n",
       "\t13 & 71 & 1750 \\\\\n",
       "\t14 & 78 & 2000 \\\\\n",
       "\t15 & 66 & 1500 \\\\\n",
       "\t16 & 44 & 1000 \\\\\n",
       "\t17 & 68 & 1600 \\\\\n",
       "\t18 & 90 & 2000 \\\\\n",
       "\t19 & 22 & 550 \\\\\n",
       "\\end{tabular}\n"
      ],
      "text/plain": [
       "\u001b[1m19×2 DataFrame\u001b[0m\n",
       "\u001b[1m Row \u001b[0m│\u001b[1m Promote \u001b[0m\u001b[1m Sales \u001b[0m\n",
       "     │\u001b[90m Int64   \u001b[0m\u001b[90m Int64 \u001b[0m\n",
       "─────┼────────────────\n",
       "   1 │      23    554\n",
       "   2 │      56   1339\n",
       "   3 │      34    815\n",
       "   4 │      25    609\n",
       "   5 │      67   1600\n",
       "   6 │      82   2000\n",
       "   7 │      46   1000\n",
       "   8 │      14    300\n",
       "   9 │       6    150\n",
       "  10 │      47   1150\n",
       "  11 │      52   1200\n",
       "  12 │      88   2000\n",
       "  13 │      71   1750\n",
       "  14 │      78   2000\n",
       "  15 │      66   1500\n",
       "  16 │      44   1000\n",
       "  17 │      68   1600\n",
       "  18 │      90   2000\n",
       "  19 │      22    550"
      ]
     },
     "execution_count": 2,
     "metadata": {},
     "output_type": "execute_result"
    }
   ],
   "source": [
    "df = CSV.read(\"data/sales.csv\", DataFrame)"
   ]
  },
  {
   "cell_type": "code",
   "execution_count": 3,
   "id": "ff8e7f73-8ae7-4a3f-9593-4cbfe828256e",
   "metadata": {},
   "outputs": [
    {
     "data": {
      "text/plain": [
       "19-element Vector{Int64}:\n",
       "  554\n",
       " 1339\n",
       "  815\n",
       "  609\n",
       " 1600\n",
       " 2000\n",
       " 1000\n",
       "  300\n",
       "  150\n",
       " 1150\n",
       " 1200\n",
       " 2000\n",
       " 1750\n",
       " 2000\n",
       " 1500\n",
       " 1000\n",
       " 1600\n",
       " 2000\n",
       "  550"
      ]
     },
     "execution_count": 3,
     "metadata": {},
     "output_type": "execute_result"
    }
   ],
   "source": [
    "X = df[!,:Promote]\n",
    "Y = df[!,:Sales]"
   ]
  },
  {
   "cell_type": "code",
   "execution_count": 4,
   "id": "d998808b-6f86-4202-86a5-bf0ae4819c75",
   "metadata": {},
   "outputs": [],
   "source": [
    "# Pkg.add(\"Plots\")\n",
    "using Plots"
   ]
  },
  {
   "cell_type": "code",
   "execution_count": 5,
   "id": "093ee473-03b9-4557-a11f-0bc8ea5304e1",
   "metadata": {},
   "outputs": [
    {
     "data": {
      "image/svg+xml": [
       "<?xml version=\"1.0\" encoding=\"utf-8\"?>\n",
       "<svg xmlns=\"http://www.w3.org/2000/svg\" xmlns:xlink=\"http://www.w3.org/1999/xlink\" width=\"600\" height=\"400\" viewBox=\"0 0 2400 1600\">\n",
       "<defs>\n",
       "  <clipPath id=\"clip030\">\n",
       "    <rect x=\"0\" y=\"0\" width=\"2400\" height=\"1600\"/>\n",
       "  </clipPath>\n",
       "</defs>\n",
       "<path clip-path=\"url(#clip030)\" d=\"M0 1600 L2400 1600 L2400 0 L0 0  Z\" fill=\"#ffffff\" fill-rule=\"evenodd\" fill-opacity=\"1\"/>\n",
       "<defs>\n",
       "  <clipPath id=\"clip031\">\n",
       "    <rect x=\"480\" y=\"0\" width=\"1681\" height=\"1600\"/>\n",
       "  </clipPath>\n",
       "</defs>\n",
       "<path clip-path=\"url(#clip030)\" d=\"M201.019 1486.45 L2352.76 1486.45 L2352.76 47.2441 L201.019 47.2441  Z\" fill=\"#ffffff\" fill-rule=\"evenodd\" fill-opacity=\"1\"/>\n",
       "<defs>\n",
       "  <clipPath id=\"clip032\">\n",
       "    <rect x=\"201\" y=\"47\" width=\"2153\" height=\"1440\"/>\n",
       "  </clipPath>\n",
       "</defs>\n",
       "<polyline clip-path=\"url(#clip032)\" style=\"stroke:#000000; stroke-linecap:round; stroke-linejoin:round; stroke-width:2; stroke-opacity:0.1; fill:none\" points=\"600.241,1486.45 600.241,47.2441 \"/>\n",
       "<polyline clip-path=\"url(#clip032)\" style=\"stroke:#000000; stroke-linecap:round; stroke-linejoin:round; stroke-width:2; stroke-opacity:0.1; fill:none\" points=\"1083.56,1486.45 1083.56,47.2441 \"/>\n",
       "<polyline clip-path=\"url(#clip032)\" style=\"stroke:#000000; stroke-linecap:round; stroke-linejoin:round; stroke-width:2; stroke-opacity:0.1; fill:none\" points=\"1566.88,1486.45 1566.88,47.2441 \"/>\n",
       "<polyline clip-path=\"url(#clip032)\" style=\"stroke:#000000; stroke-linecap:round; stroke-linejoin:round; stroke-width:2; stroke-opacity:0.1; fill:none\" points=\"2050.2,1486.45 2050.2,47.2441 \"/>\n",
       "<polyline clip-path=\"url(#clip030)\" style=\"stroke:#000000; stroke-linecap:round; stroke-linejoin:round; stroke-width:4; stroke-opacity:1; fill:none\" points=\"201.019,1486.45 2352.76,1486.45 \"/>\n",
       "<polyline clip-path=\"url(#clip030)\" style=\"stroke:#000000; stroke-linecap:round; stroke-linejoin:round; stroke-width:4; stroke-opacity:1; fill:none\" points=\"600.241,1486.45 600.241,1467.55 \"/>\n",
       "<polyline clip-path=\"url(#clip030)\" style=\"stroke:#000000; stroke-linecap:round; stroke-linejoin:round; stroke-width:4; stroke-opacity:1; fill:none\" points=\"1083.56,1486.45 1083.56,1467.55 \"/>\n",
       "<polyline clip-path=\"url(#clip030)\" style=\"stroke:#000000; stroke-linecap:round; stroke-linejoin:round; stroke-width:4; stroke-opacity:1; fill:none\" points=\"1566.88,1486.45 1566.88,1467.55 \"/>\n",
       "<polyline clip-path=\"url(#clip030)\" style=\"stroke:#000000; stroke-linecap:round; stroke-linejoin:round; stroke-width:4; stroke-opacity:1; fill:none\" points=\"2050.2,1486.45 2050.2,1467.55 \"/>\n",
       "<path clip-path=\"url(#clip030)\" d=\"M579.014 1544.91 L595.333 1544.91 L595.333 1548.85 L573.389 1548.85 L573.389 1544.91 Q576.051 1542.16 580.634 1537.53 Q585.241 1532.88 586.421 1531.53 Q588.667 1529.01 589.546 1527.27 Q590.449 1525.51 590.449 1523.82 Q590.449 1521.07 588.505 1519.33 Q586.584 1517.6 583.482 1517.6 Q581.283 1517.6 578.829 1518.36 Q576.398 1519.13 573.621 1520.68 L573.621 1515.95 Q576.445 1514.82 578.898 1514.24 Q581.352 1513.66 583.389 1513.66 Q588.759 1513.66 591.954 1516.35 Q595.148 1519.03 595.148 1523.52 Q595.148 1525.65 594.338 1527.57 Q593.551 1529.47 591.445 1532.07 Q590.866 1532.74 587.764 1535.95 Q584.662 1539.15 579.014 1544.91 Z\" fill=\"#000000\" fill-rule=\"evenodd\" fill-opacity=\"1\" /><path clip-path=\"url(#clip030)\" d=\"M615.148 1517.37 Q611.537 1517.37 609.708 1520.93 Q607.903 1524.47 607.903 1531.6 Q607.903 1538.71 609.708 1542.27 Q611.537 1545.82 615.148 1545.82 Q618.782 1545.82 620.588 1542.27 Q622.417 1538.71 622.417 1531.6 Q622.417 1524.47 620.588 1520.93 Q618.782 1517.37 615.148 1517.37 M615.148 1513.66 Q620.958 1513.66 624.014 1518.27 Q627.093 1522.85 627.093 1531.6 Q627.093 1540.33 624.014 1544.94 Q620.958 1549.52 615.148 1549.52 Q609.338 1549.52 606.259 1544.94 Q603.204 1540.33 603.204 1531.6 Q603.204 1522.85 606.259 1518.27 Q609.338 1513.66 615.148 1513.66 Z\" fill=\"#000000\" fill-rule=\"evenodd\" fill-opacity=\"1\" /><path clip-path=\"url(#clip030)\" d=\"M1071.73 1518.36 L1059.93 1536.81 L1071.73 1536.81 L1071.73 1518.36 M1070.5 1514.29 L1076.38 1514.29 L1076.38 1536.81 L1081.31 1536.81 L1081.31 1540.7 L1076.38 1540.7 L1076.38 1548.85 L1071.73 1548.85 L1071.73 1540.7 L1056.13 1540.7 L1056.13 1536.19 L1070.5 1514.29 Z\" fill=\"#000000\" fill-rule=\"evenodd\" fill-opacity=\"1\" /><path clip-path=\"url(#clip030)\" d=\"M1099.05 1517.37 Q1095.43 1517.37 1093.61 1520.93 Q1091.8 1524.47 1091.8 1531.6 Q1091.8 1538.71 1093.61 1542.27 Q1095.43 1545.82 1099.05 1545.82 Q1102.68 1545.82 1104.49 1542.27 Q1106.31 1538.71 1106.31 1531.6 Q1106.31 1524.47 1104.49 1520.93 Q1102.68 1517.37 1099.05 1517.37 M1099.05 1513.66 Q1104.86 1513.66 1107.91 1518.27 Q1110.99 1522.85 1110.99 1531.6 Q1110.99 1540.33 1107.91 1544.94 Q1104.86 1549.52 1099.05 1549.52 Q1093.24 1549.52 1090.16 1544.94 Q1087.1 1540.33 1087.1 1531.6 Q1087.1 1522.85 1090.16 1518.27 Q1093.24 1513.66 1099.05 1513.66 Z\" fill=\"#000000\" fill-rule=\"evenodd\" fill-opacity=\"1\" /><path clip-path=\"url(#clip030)\" d=\"M1552.28 1529.7 Q1549.14 1529.7 1547.28 1531.86 Q1545.46 1534.01 1545.46 1537.76 Q1545.46 1541.49 1547.28 1543.66 Q1549.14 1545.82 1552.28 1545.82 Q1555.43 1545.82 1557.26 1543.66 Q1559.11 1541.49 1559.11 1537.76 Q1559.11 1534.01 1557.26 1531.86 Q1555.43 1529.7 1552.28 1529.7 M1561.57 1515.05 L1561.57 1519.31 Q1559.81 1518.48 1558 1518.04 Q1556.22 1517.6 1554.46 1517.6 Q1549.83 1517.6 1547.38 1520.72 Q1544.95 1523.85 1544.6 1530.17 Q1545.96 1528.15 1548.02 1527.09 Q1550.09 1526 1552.56 1526 Q1557.77 1526 1560.78 1529.17 Q1563.81 1532.32 1563.81 1537.76 Q1563.81 1543.08 1560.66 1546.3 Q1557.52 1549.52 1552.28 1549.52 Q1546.29 1549.52 1543.12 1544.94 Q1539.95 1540.33 1539.95 1531.6 Q1539.95 1523.41 1543.84 1518.55 Q1547.72 1513.66 1554.27 1513.66 Q1556.03 1513.66 1557.82 1514.01 Q1559.62 1514.36 1561.57 1515.05 Z\" fill=\"#000000\" fill-rule=\"evenodd\" fill-opacity=\"1\" /><path clip-path=\"url(#clip030)\" d=\"M1581.87 1517.37 Q1578.26 1517.37 1576.43 1520.93 Q1574.62 1524.47 1574.62 1531.6 Q1574.62 1538.71 1576.43 1542.27 Q1578.26 1545.82 1581.87 1545.82 Q1585.5 1545.82 1587.31 1542.27 Q1589.14 1538.71 1589.14 1531.6 Q1589.14 1524.47 1587.31 1520.93 Q1585.5 1517.37 1581.87 1517.37 M1581.87 1513.66 Q1587.68 1513.66 1590.73 1518.27 Q1593.81 1522.85 1593.81 1531.6 Q1593.81 1540.33 1590.73 1544.94 Q1587.68 1549.52 1581.87 1549.52 Q1576.06 1549.52 1572.98 1544.94 Q1569.92 1540.33 1569.92 1531.6 Q1569.92 1522.85 1572.98 1518.27 Q1576.06 1513.66 1581.87 1513.66 Z\" fill=\"#000000\" fill-rule=\"evenodd\" fill-opacity=\"1\" /><path clip-path=\"url(#clip030)\" d=\"M2035.07 1532.44 Q2031.74 1532.44 2029.82 1534.22 Q2027.92 1536 2027.92 1539.13 Q2027.92 1542.25 2029.82 1544.03 Q2031.74 1545.82 2035.07 1545.82 Q2038.4 1545.82 2040.33 1544.03 Q2042.25 1542.23 2042.25 1539.13 Q2042.25 1536 2040.33 1534.22 Q2038.43 1532.44 2035.07 1532.44 M2030.4 1530.45 Q2027.39 1529.7 2025.7 1527.64 Q2024.03 1525.58 2024.03 1522.62 Q2024.03 1518.48 2026.97 1516.07 Q2029.93 1513.66 2035.07 1513.66 Q2040.23 1513.66 2043.17 1516.07 Q2046.11 1518.48 2046.11 1522.62 Q2046.11 1525.58 2044.42 1527.64 Q2042.76 1529.7 2039.77 1530.45 Q2043.15 1531.23 2045.02 1533.52 Q2046.92 1535.82 2046.92 1539.13 Q2046.92 1544.15 2043.84 1546.83 Q2040.79 1549.52 2035.07 1549.52 Q2029.35 1549.52 2026.27 1546.83 Q2023.22 1544.15 2023.22 1539.13 Q2023.22 1535.82 2025.12 1533.52 Q2027.02 1531.23 2030.4 1530.45 M2028.68 1523.06 Q2028.68 1525.75 2030.35 1527.25 Q2032.04 1528.76 2035.07 1528.76 Q2038.08 1528.76 2039.77 1527.25 Q2041.48 1525.75 2041.48 1523.06 Q2041.48 1520.38 2039.77 1518.87 Q2038.08 1517.37 2035.07 1517.37 Q2032.04 1517.37 2030.35 1518.87 Q2028.68 1520.38 2028.68 1523.06 Z\" fill=\"#000000\" fill-rule=\"evenodd\" fill-opacity=\"1\" /><path clip-path=\"url(#clip030)\" d=\"M2065.23 1517.37 Q2061.62 1517.37 2059.79 1520.93 Q2057.99 1524.47 2057.99 1531.6 Q2057.99 1538.71 2059.79 1542.27 Q2061.62 1545.82 2065.23 1545.82 Q2068.87 1545.82 2070.67 1542.27 Q2072.5 1538.71 2072.5 1531.6 Q2072.5 1524.47 2070.67 1520.93 Q2068.87 1517.37 2065.23 1517.37 M2065.23 1513.66 Q2071.04 1513.66 2074.1 1518.27 Q2077.18 1522.85 2077.18 1531.6 Q2077.18 1540.33 2074.1 1544.94 Q2071.04 1549.52 2065.23 1549.52 Q2059.42 1549.52 2056.34 1544.94 Q2053.29 1540.33 2053.29 1531.6 Q2053.29 1522.85 2056.34 1518.27 Q2059.42 1513.66 2065.23 1513.66 Z\" fill=\"#000000\" fill-rule=\"evenodd\" fill-opacity=\"1\" /><polyline clip-path=\"url(#clip032)\" style=\"stroke:#000000; stroke-linecap:round; stroke-linejoin:round; stroke-width:2; stroke-opacity:0.1; fill:none\" points=\"201.019,1188.85 2352.76,1188.85 \"/>\n",
       "<polyline clip-path=\"url(#clip032)\" style=\"stroke:#000000; stroke-linecap:round; stroke-linejoin:round; stroke-width:2; stroke-opacity:0.1; fill:none\" points=\"201.019,821.889 2352.76,821.889 \"/>\n",
       "<polyline clip-path=\"url(#clip032)\" style=\"stroke:#000000; stroke-linecap:round; stroke-linejoin:round; stroke-width:2; stroke-opacity:0.1; fill:none\" points=\"201.019,454.933 2352.76,454.933 \"/>\n",
       "<polyline clip-path=\"url(#clip032)\" style=\"stroke:#000000; stroke-linecap:round; stroke-linejoin:round; stroke-width:2; stroke-opacity:0.1; fill:none\" points=\"201.019,87.9763 2352.76,87.9763 \"/>\n",
       "<polyline clip-path=\"url(#clip030)\" style=\"stroke:#000000; stroke-linecap:round; stroke-linejoin:round; stroke-width:4; stroke-opacity:1; fill:none\" points=\"201.019,1486.45 201.019,47.2441 \"/>\n",
       "<polyline clip-path=\"url(#clip030)\" style=\"stroke:#000000; stroke-linecap:round; stroke-linejoin:round; stroke-width:4; stroke-opacity:1; fill:none\" points=\"201.019,1188.85 219.917,1188.85 \"/>\n",
       "<polyline clip-path=\"url(#clip030)\" style=\"stroke:#000000; stroke-linecap:round; stroke-linejoin:round; stroke-width:4; stroke-opacity:1; fill:none\" points=\"201.019,821.889 219.917,821.889 \"/>\n",
       "<polyline clip-path=\"url(#clip030)\" style=\"stroke:#000000; stroke-linecap:round; stroke-linejoin:round; stroke-width:4; stroke-opacity:1; fill:none\" points=\"201.019,454.933 219.917,454.933 \"/>\n",
       "<polyline clip-path=\"url(#clip030)\" style=\"stroke:#000000; stroke-linecap:round; stroke-linejoin:round; stroke-width:4; stroke-opacity:1; fill:none\" points=\"201.019,87.9763 219.917,87.9763 \"/>\n",
       "<path clip-path=\"url(#clip030)\" d=\"M82.7975 1171.57 L101.154 1171.57 L101.154 1175.5 L87.0799 1175.5 L87.0799 1183.97 Q88.0984 1183.63 89.1169 1183.46 Q90.1354 1183.28 91.1539 1183.28 Q96.941 1183.28 100.321 1186.45 Q103.7 1189.62 103.7 1195.04 Q103.7 1200.62 100.228 1203.72 Q96.7558 1206.8 90.4364 1206.8 Q88.2604 1206.8 85.9919 1206.43 Q83.7466 1206.06 81.3392 1205.32 L81.3392 1200.62 Q83.4225 1201.75 85.6447 1202.31 Q87.8669 1202.86 90.3438 1202.86 Q94.3484 1202.86 96.6863 1200.76 Q99.0243 1198.65 99.0243 1195.04 Q99.0243 1191.43 96.6863 1189.32 Q94.3484 1187.21 90.3438 1187.21 Q88.4688 1187.21 86.5938 1187.63 Q84.7419 1188.05 82.7975 1188.93 L82.7975 1171.57 Z\" fill=\"#000000\" fill-rule=\"evenodd\" fill-opacity=\"1\" /><path clip-path=\"url(#clip030)\" d=\"M122.913 1174.64 Q119.302 1174.64 117.473 1178.21 Q115.668 1181.75 115.668 1188.88 Q115.668 1195.99 117.473 1199.55 Q119.302 1203.09 122.913 1203.09 Q126.547 1203.09 128.353 1199.55 Q130.182 1195.99 130.182 1188.88 Q130.182 1181.75 128.353 1178.21 Q126.547 1174.64 122.913 1174.64 M122.913 1170.94 Q128.723 1170.94 131.779 1175.55 Q134.857 1180.13 134.857 1188.88 Q134.857 1197.61 131.779 1202.21 Q128.723 1206.8 122.913 1206.8 Q117.103 1206.8 114.024 1202.21 Q110.969 1197.61 110.969 1188.88 Q110.969 1180.13 114.024 1175.55 Q117.103 1170.94 122.913 1170.94 Z\" fill=\"#000000\" fill-rule=\"evenodd\" fill-opacity=\"1\" /><path clip-path=\"url(#clip030)\" d=\"M153.075 1174.64 Q149.464 1174.64 147.635 1178.21 Q145.83 1181.75 145.83 1188.88 Q145.83 1195.99 147.635 1199.55 Q149.464 1203.09 153.075 1203.09 Q156.709 1203.09 158.515 1199.55 Q160.343 1195.99 160.343 1188.88 Q160.343 1181.75 158.515 1178.21 Q156.709 1174.64 153.075 1174.64 M153.075 1170.94 Q158.885 1170.94 161.941 1175.55 Q165.019 1180.13 165.019 1188.88 Q165.019 1197.61 161.941 1202.21 Q158.885 1206.8 153.075 1206.8 Q147.265 1206.8 144.186 1202.21 Q141.131 1197.61 141.131 1188.88 Q141.131 1180.13 144.186 1175.55 Q147.265 1170.94 153.075 1170.94 Z\" fill=\"#000000\" fill-rule=\"evenodd\" fill-opacity=\"1\" /><path clip-path=\"url(#clip030)\" d=\"M53.3995 835.234 L61.0384 835.234 L61.0384 808.869 L52.7282 810.535 L52.7282 806.276 L60.9921 804.609 L65.668 804.609 L65.668 835.234 L73.3068 835.234 L73.3068 839.169 L53.3995 839.169 L53.3995 835.234 Z\" fill=\"#000000\" fill-rule=\"evenodd\" fill-opacity=\"1\" /><path clip-path=\"url(#clip030)\" d=\"M92.7512 807.688 Q89.1401 807.688 87.3114 811.253 Q85.5058 814.795 85.5058 821.924 Q85.5058 829.031 87.3114 832.595 Q89.1401 836.137 92.7512 836.137 Q96.3854 836.137 98.1909 832.595 Q100.02 829.031 100.02 821.924 Q100.02 814.795 98.1909 811.253 Q96.3854 807.688 92.7512 807.688 M92.7512 803.984 Q98.5613 803.984 101.617 808.591 Q104.696 813.174 104.696 821.924 Q104.696 830.651 101.617 835.257 Q98.5613 839.841 92.7512 839.841 Q86.941 839.841 83.8623 835.257 Q80.8068 830.651 80.8068 821.924 Q80.8068 813.174 83.8623 808.591 Q86.941 803.984 92.7512 803.984 Z\" fill=\"#000000\" fill-rule=\"evenodd\" fill-opacity=\"1\" /><path clip-path=\"url(#clip030)\" d=\"M122.913 807.688 Q119.302 807.688 117.473 811.253 Q115.668 814.795 115.668 821.924 Q115.668 829.031 117.473 832.595 Q119.302 836.137 122.913 836.137 Q126.547 836.137 128.353 832.595 Q130.182 829.031 130.182 821.924 Q130.182 814.795 128.353 811.253 Q126.547 807.688 122.913 807.688 M122.913 803.984 Q128.723 803.984 131.779 808.591 Q134.857 813.174 134.857 821.924 Q134.857 830.651 131.779 835.257 Q128.723 839.841 122.913 839.841 Q117.103 839.841 114.024 835.257 Q110.969 830.651 110.969 821.924 Q110.969 813.174 114.024 808.591 Q117.103 803.984 122.913 803.984 Z\" fill=\"#000000\" fill-rule=\"evenodd\" fill-opacity=\"1\" /><path clip-path=\"url(#clip030)\" d=\"M153.075 807.688 Q149.464 807.688 147.635 811.253 Q145.83 814.795 145.83 821.924 Q145.83 829.031 147.635 832.595 Q149.464 836.137 153.075 836.137 Q156.709 836.137 158.515 832.595 Q160.343 829.031 160.343 821.924 Q160.343 814.795 158.515 811.253 Q156.709 807.688 153.075 807.688 M153.075 803.984 Q158.885 803.984 161.941 808.591 Q165.019 813.174 165.019 821.924 Q165.019 830.651 161.941 835.257 Q158.885 839.841 153.075 839.841 Q147.265 839.841 144.186 835.257 Q141.131 830.651 141.131 821.924 Q141.131 813.174 144.186 808.591 Q147.265 803.984 153.075 803.984 Z\" fill=\"#000000\" fill-rule=\"evenodd\" fill-opacity=\"1\" /><path clip-path=\"url(#clip030)\" d=\"M53.3995 468.278 L61.0384 468.278 L61.0384 441.912 L52.7282 443.579 L52.7282 439.32 L60.9921 437.653 L65.668 437.653 L65.668 468.278 L73.3068 468.278 L73.3068 472.213 L53.3995 472.213 L53.3995 468.278 Z\" fill=\"#000000\" fill-rule=\"evenodd\" fill-opacity=\"1\" /><path clip-path=\"url(#clip030)\" d=\"M82.7975 437.653 L101.154 437.653 L101.154 441.588 L87.0799 441.588 L87.0799 450.06 Q88.0984 449.713 89.1169 449.551 Q90.1354 449.366 91.1539 449.366 Q96.941 449.366 100.321 452.537 Q103.7 455.708 103.7 461.125 Q103.7 466.704 100.228 469.805 Q96.7558 472.884 90.4364 472.884 Q88.2604 472.884 85.9919 472.514 Q83.7466 472.143 81.3392 471.403 L81.3392 466.704 Q83.4225 467.838 85.6447 468.393 Q87.8669 468.949 90.3438 468.949 Q94.3484 468.949 96.6863 466.843 Q99.0243 464.736 99.0243 461.125 Q99.0243 457.514 96.6863 455.407 Q94.3484 453.301 90.3438 453.301 Q88.4688 453.301 86.5938 453.718 Q84.7419 454.134 82.7975 455.014 L82.7975 437.653 Z\" fill=\"#000000\" fill-rule=\"evenodd\" fill-opacity=\"1\" /><path clip-path=\"url(#clip030)\" d=\"M122.913 440.732 Q119.302 440.732 117.473 444.296 Q115.668 447.838 115.668 454.968 Q115.668 462.074 117.473 465.639 Q119.302 469.18 122.913 469.18 Q126.547 469.18 128.353 465.639 Q130.182 462.074 130.182 454.968 Q130.182 447.838 128.353 444.296 Q126.547 440.732 122.913 440.732 M122.913 437.028 Q128.723 437.028 131.779 441.634 Q134.857 446.218 134.857 454.968 Q134.857 463.694 131.779 468.301 Q128.723 472.884 122.913 472.884 Q117.103 472.884 114.024 468.301 Q110.969 463.694 110.969 454.968 Q110.969 446.218 114.024 441.634 Q117.103 437.028 122.913 437.028 Z\" fill=\"#000000\" fill-rule=\"evenodd\" fill-opacity=\"1\" /><path clip-path=\"url(#clip030)\" d=\"M153.075 440.732 Q149.464 440.732 147.635 444.296 Q145.83 447.838 145.83 454.968 Q145.83 462.074 147.635 465.639 Q149.464 469.18 153.075 469.18 Q156.709 469.18 158.515 465.639 Q160.343 462.074 160.343 454.968 Q160.343 447.838 158.515 444.296 Q156.709 440.732 153.075 440.732 M153.075 437.028 Q158.885 437.028 161.941 441.634 Q165.019 446.218 165.019 454.968 Q165.019 463.694 161.941 468.301 Q158.885 472.884 153.075 472.884 Q147.265 472.884 144.186 468.301 Q141.131 463.694 141.131 454.968 Q141.131 446.218 144.186 441.634 Q147.265 437.028 153.075 437.028 Z\" fill=\"#000000\" fill-rule=\"evenodd\" fill-opacity=\"1\" /><path clip-path=\"url(#clip030)\" d=\"M56.6171 101.321 L72.9365 101.321 L72.9365 105.256 L50.9921 105.256 L50.9921 101.321 Q53.6541 98.5665 58.2375 93.9369 Q62.8439 89.2841 64.0245 87.9416 Q66.2698 85.4184 67.1494 83.6823 Q68.0522 81.9231 68.0522 80.2333 Q68.0522 77.4786 66.1078 75.7425 Q64.1865 74.0064 61.0847 74.0064 Q58.8856 74.0064 56.4319 74.7703 Q54.0014 75.5342 51.2236 77.0851 L51.2236 72.3629 Q54.0477 71.2287 56.5014 70.65 Q58.955 70.0713 60.9921 70.0713 Q66.3624 70.0713 69.5568 72.7565 Q72.7513 75.4416 72.7513 79.9323 Q72.7513 82.062 71.9411 83.9832 Q71.1541 85.8814 69.0476 88.474 Q68.4689 89.1453 65.367 92.3628 Q62.2652 95.5573 56.6171 101.321 Z\" fill=\"#000000\" fill-rule=\"evenodd\" fill-opacity=\"1\" /><path clip-path=\"url(#clip030)\" d=\"M92.7512 73.775 Q89.1401 73.775 87.3114 77.3398 Q85.5058 80.8814 85.5058 88.011 Q85.5058 95.1174 87.3114 98.6822 Q89.1401 102.224 92.7512 102.224 Q96.3854 102.224 98.1909 98.6822 Q100.02 95.1174 100.02 88.011 Q100.02 80.8814 98.1909 77.3398 Q96.3854 73.775 92.7512 73.775 M92.7512 70.0713 Q98.5613 70.0713 101.617 74.6777 Q104.696 79.261 104.696 88.011 Q104.696 96.7378 101.617 101.344 Q98.5613 105.928 92.7512 105.928 Q86.941 105.928 83.8623 101.344 Q80.8068 96.7378 80.8068 88.011 Q80.8068 79.261 83.8623 74.6777 Q86.941 70.0713 92.7512 70.0713 Z\" fill=\"#000000\" fill-rule=\"evenodd\" fill-opacity=\"1\" /><path clip-path=\"url(#clip030)\" d=\"M122.913 73.775 Q119.302 73.775 117.473 77.3398 Q115.668 80.8814 115.668 88.011 Q115.668 95.1174 117.473 98.6822 Q119.302 102.224 122.913 102.224 Q126.547 102.224 128.353 98.6822 Q130.182 95.1174 130.182 88.011 Q130.182 80.8814 128.353 77.3398 Q126.547 73.775 122.913 73.775 M122.913 70.0713 Q128.723 70.0713 131.779 74.6777 Q134.857 79.261 134.857 88.011 Q134.857 96.7378 131.779 101.344 Q128.723 105.928 122.913 105.928 Q117.103 105.928 114.024 101.344 Q110.969 96.7378 110.969 88.011 Q110.969 79.261 114.024 74.6777 Q117.103 70.0713 122.913 70.0713 Z\" fill=\"#000000\" fill-rule=\"evenodd\" fill-opacity=\"1\" /><path clip-path=\"url(#clip030)\" d=\"M153.075 73.775 Q149.464 73.775 147.635 77.3398 Q145.83 80.8814 145.83 88.011 Q145.83 95.1174 147.635 98.6822 Q149.464 102.224 153.075 102.224 Q156.709 102.224 158.515 98.6822 Q160.343 95.1174 160.343 88.011 Q160.343 80.8814 158.515 77.3398 Q156.709 73.775 153.075 73.775 M153.075 70.0713 Q158.885 70.0713 161.941 74.6777 Q165.019 79.261 165.019 88.011 Q165.019 96.7378 161.941 101.344 Q158.885 105.928 153.075 105.928 Q147.265 105.928 144.186 101.344 Q141.131 96.7378 141.131 88.011 Q141.131 79.261 144.186 74.6777 Q147.265 70.0713 153.075 70.0713 Z\" fill=\"#000000\" fill-rule=\"evenodd\" fill-opacity=\"1\" /><circle clip-path=\"url(#clip032)\" cx=\"672.739\" cy=\"1149.21\" r=\"14.4\" fill=\"#009af9\" fill-rule=\"evenodd\" fill-opacity=\"1\" stroke=\"#000000\" stroke-opacity=\"1\" stroke-width=\"3.2\"/>\n",
       "<circle clip-path=\"url(#clip032)\" cx=\"1470.22\" cy=\"573.093\" r=\"14.4\" fill=\"#009af9\" fill-rule=\"evenodd\" fill-opacity=\"1\" stroke=\"#000000\" stroke-opacity=\"1\" stroke-width=\"3.2\"/>\n",
       "<circle clip-path=\"url(#clip032)\" cx=\"938.564\" cy=\"957.663\" r=\"14.4\" fill=\"#009af9\" fill-rule=\"evenodd\" fill-opacity=\"1\" stroke=\"#000000\" stroke-opacity=\"1\" stroke-width=\"3.2\"/>\n",
       "<circle clip-path=\"url(#clip032)\" cx=\"721.071\" cy=\"1108.85\" r=\"14.4\" fill=\"#009af9\" fill-rule=\"evenodd\" fill-opacity=\"1\" stroke=\"#000000\" stroke-opacity=\"1\" stroke-width=\"3.2\"/>\n",
       "<circle clip-path=\"url(#clip032)\" cx=\"1736.04\" cy=\"381.542\" r=\"14.4\" fill=\"#009af9\" fill-rule=\"evenodd\" fill-opacity=\"1\" stroke=\"#000000\" stroke-opacity=\"1\" stroke-width=\"3.2\"/>\n",
       "<circle clip-path=\"url(#clip032)\" cx=\"2098.53\" cy=\"87.9763\" r=\"14.4\" fill=\"#009af9\" fill-rule=\"evenodd\" fill-opacity=\"1\" stroke=\"#000000\" stroke-opacity=\"1\" stroke-width=\"3.2\"/>\n",
       "<circle clip-path=\"url(#clip032)\" cx=\"1228.56\" cy=\"821.889\" r=\"14.4\" fill=\"#009af9\" fill-rule=\"evenodd\" fill-opacity=\"1\" stroke=\"#000000\" stroke-opacity=\"1\" stroke-width=\"3.2\"/>\n",
       "<circle clip-path=\"url(#clip032)\" cx=\"455.245\" cy=\"1335.63\" r=\"14.4\" fill=\"#009af9\" fill-rule=\"evenodd\" fill-opacity=\"1\" stroke=\"#000000\" stroke-opacity=\"1\" stroke-width=\"3.2\"/>\n",
       "<circle clip-path=\"url(#clip032)\" cx=\"261.917\" cy=\"1445.72\" r=\"14.4\" fill=\"#009af9\" fill-rule=\"evenodd\" fill-opacity=\"1\" stroke=\"#000000\" stroke-opacity=\"1\" stroke-width=\"3.2\"/>\n",
       "<circle clip-path=\"url(#clip032)\" cx=\"1252.72\" cy=\"711.802\" r=\"14.4\" fill=\"#009af9\" fill-rule=\"evenodd\" fill-opacity=\"1\" stroke=\"#000000\" stroke-opacity=\"1\" stroke-width=\"3.2\"/>\n",
       "<circle clip-path=\"url(#clip032)\" cx=\"1373.55\" cy=\"675.107\" r=\"14.4\" fill=\"#009af9\" fill-rule=\"evenodd\" fill-opacity=\"1\" stroke=\"#000000\" stroke-opacity=\"1\" stroke-width=\"3.2\"/>\n",
       "<circle clip-path=\"url(#clip032)\" cx=\"2243.53\" cy=\"87.9763\" r=\"14.4\" fill=\"#009af9\" fill-rule=\"evenodd\" fill-opacity=\"1\" stroke=\"#000000\" stroke-opacity=\"1\" stroke-width=\"3.2\"/>\n",
       "<circle clip-path=\"url(#clip032)\" cx=\"1832.7\" cy=\"271.455\" r=\"14.4\" fill=\"#009af9\" fill-rule=\"evenodd\" fill-opacity=\"1\" stroke=\"#000000\" stroke-opacity=\"1\" stroke-width=\"3.2\"/>\n",
       "<circle clip-path=\"url(#clip032)\" cx=\"2001.87\" cy=\"87.9763\" r=\"14.4\" fill=\"#009af9\" fill-rule=\"evenodd\" fill-opacity=\"1\" stroke=\"#000000\" stroke-opacity=\"1\" stroke-width=\"3.2\"/>\n",
       "<circle clip-path=\"url(#clip032)\" cx=\"1711.87\" cy=\"454.933\" r=\"14.4\" fill=\"#009af9\" fill-rule=\"evenodd\" fill-opacity=\"1\" stroke=\"#000000\" stroke-opacity=\"1\" stroke-width=\"3.2\"/>\n",
       "<circle clip-path=\"url(#clip032)\" cx=\"1180.22\" cy=\"821.889\" r=\"14.4\" fill=\"#009af9\" fill-rule=\"evenodd\" fill-opacity=\"1\" stroke=\"#000000\" stroke-opacity=\"1\" stroke-width=\"3.2\"/>\n",
       "<circle clip-path=\"url(#clip032)\" cx=\"1760.21\" cy=\"381.542\" r=\"14.4\" fill=\"#009af9\" fill-rule=\"evenodd\" fill-opacity=\"1\" stroke=\"#000000\" stroke-opacity=\"1\" stroke-width=\"3.2\"/>\n",
       "<circle clip-path=\"url(#clip032)\" cx=\"2291.86\" cy=\"87.9763\" r=\"14.4\" fill=\"#009af9\" fill-rule=\"evenodd\" fill-opacity=\"1\" stroke=\"#000000\" stroke-opacity=\"1\" stroke-width=\"3.2\"/>\n",
       "<circle clip-path=\"url(#clip032)\" cx=\"648.573\" cy=\"1152.15\" r=\"14.4\" fill=\"#009af9\" fill-rule=\"evenodd\" fill-opacity=\"1\" stroke=\"#000000\" stroke-opacity=\"1\" stroke-width=\"3.2\"/>\n",
       "<path clip-path=\"url(#clip030)\" d=\"M272.744 198.898 L540.348 198.898 L540.348 95.2176 L272.744 95.2176  Z\" fill=\"#ffffff\" fill-rule=\"evenodd\" fill-opacity=\"1\"/>\n",
       "<polyline clip-path=\"url(#clip030)\" style=\"stroke:#000000; stroke-linecap:round; stroke-linejoin:round; stroke-width:4; stroke-opacity:1; fill:none\" points=\"272.744,198.898 540.348,198.898 540.348,95.2176 272.744,95.2176 272.744,198.898 \"/>\n",
       "<circle clip-path=\"url(#clip030)\" cx=\"368.377\" cy=\"147.058\" r=\"23.04\" fill=\"#009af9\" fill-rule=\"evenodd\" fill-opacity=\"1\" stroke=\"#000000\" stroke-opacity=\"1\" stroke-width=\"5.12\"/>\n",
       "<path clip-path=\"url(#clip030)\" d=\"M477.852 166.745 Q476.046 171.375 474.333 172.787 Q472.62 174.199 469.75 174.199 L466.347 174.199 L466.347 170.634 L468.847 170.634 Q470.607 170.634 471.579 169.8 Q472.551 168.967 473.731 165.865 L474.495 163.921 L464.009 138.412 L468.523 138.412 L476.625 158.689 L484.727 138.412 L489.241 138.412 L477.852 166.745 Z\" fill=\"#000000\" fill-rule=\"evenodd\" fill-opacity=\"1\" /><path clip-path=\"url(#clip030)\" d=\"M496.532 160.402 L504.171 160.402 L504.171 134.037 L495.861 135.703 L495.861 131.444 L504.125 129.778 L508.801 129.778 L508.801 160.402 L516.44 160.402 L516.44 164.338 L496.532 164.338 L496.532 160.402 Z\" fill=\"#000000\" fill-rule=\"evenodd\" fill-opacity=\"1\" /></svg>\n"
      ]
     },
     "execution_count": 5,
     "metadata": {},
     "output_type": "execute_result"
    }
   ],
   "source": [
    "scatter(X, Y)"
   ]
  },
  {
   "cell_type": "markdown",
   "id": "73966b2f-e19b-465b-9542-1d6878fb0262",
   "metadata": {},
   "source": [
    "**Idea**\n",
    "\n",
    "y  = mx + c\n",
    "\n",
    "Sales = m * promote + c\n",
    "\n",
    "Sales = Slope * promote + Intercept\n",
    "\n",
    "\n",
    "$$ \\Large y = c + mx $$\n",
    "$$ \\Large m = \\frac{\\Sigma({x - \\bar{x}}) ({y - \\bar{y}}) }{ \\Sigma({x - \\bar{x}})^2} $$\n",
    "$$ \\Large c = \\bar{y} - m \\bar{x} $$"
   ]
  },
  {
   "cell_type": "code",
   "execution_count": 6,
   "id": "5143940b-5a37-44f3-99d8-5d42ebdfba7c",
   "metadata": {},
   "outputs": [],
   "source": [
    "using Statistics"
   ]
  },
  {
   "cell_type": "code",
   "execution_count": 7,
   "id": "e0aa10ba-d601-44f3-8c95-b0756c4a4aeb",
   "metadata": {},
   "outputs": [],
   "source": [
    "m = sum((X .- mean(X)) .* (Y .- mean(Y))) / sum((X .- mean(X)) .* (X .- mean(X)))\n",
    "c = mean(Y) - m .* mean(X);"
   ]
  },
  {
   "cell_type": "markdown",
   "id": "be7a4ae0-de5a-415a-ac60-78fa55f18801",
   "metadata": {},
   "source": [
    "see [More Dots: Syntactic Loop Fusion in Julia](https://julialang.org/blog/2017/01/moredots/)"
   ]
  },
  {
   "cell_type": "code",
   "execution_count": 8,
   "id": "80ef6c84-8858-4231-a29c-ce86633e588f",
   "metadata": {},
   "outputs": [
    {
     "data": {
      "text/plain": [
       "(23.50640302155077, 5.485865363252515)"
      ]
     },
     "execution_count": 8,
     "metadata": {},
     "output_type": "execute_result"
    }
   ],
   "source": [
    "m, c"
   ]
  },
  {
   "cell_type": "markdown",
   "id": "0322630b-b002-4186-af9d-0561843752ed",
   "metadata": {},
   "source": [
    "Substituting these values, we have a general equation:\n",
    "\n",
    "Sales = 23.5 * Promote + 5.48\n",
    "\n",
    "Suppose we have to predict the sales when promote is 50:"
   ]
  },
  {
   "cell_type": "code",
   "execution_count": 9,
   "id": "297a47c2-c50f-4c9f-8e32-ad6d2f635c39",
   "metadata": {},
   "outputs": [
    {
     "data": {
      "text/plain": [
       "1180.48"
      ]
     },
     "execution_count": 9,
     "metadata": {},
     "output_type": "execute_result"
    }
   ],
   "source": [
    "23.5 * 50 + 5.48"
   ]
  },
  {
   "cell_type": "markdown",
   "id": "fb451c86-29ba-4c55-83a8-a67f6aab20f1",
   "metadata": {},
   "source": [
    "## Method 2"
   ]
  },
  {
   "cell_type": "code",
   "execution_count": 10,
   "id": "36c9c28c-8f8d-417d-b183-a957e6959049",
   "metadata": {},
   "outputs": [],
   "source": [
    "using GLM"
   ]
  },
  {
   "cell_type": "markdown",
   "id": "4e11e701-2ae3-4397-9390-4fae6156d757",
   "metadata": {},
   "source": [
    "see [GLM Documentation · GLM](https://juliastats.org/GLM.jl/v0.11/) (Generalized Linear Model)"
   ]
  },
  {
   "cell_type": "code",
   "execution_count": 11,
   "id": "b66f34f0-0be3-4f47-a9ce-b48d9a0371d0",
   "metadata": {},
   "outputs": [
    {
     "data": {
      "text/plain": [
       "StatsModels.TableRegressionModel{LinearModel{GLM.LmResp{Vector{Float64}}, GLM.DensePredChol{Float64, LinearAlgebra.CholeskyPivoted{Float64, Matrix{Float64}, Vector{Int64}}}}, Matrix{Float64}}\n",
       "\n",
       "Sales ~ 1 + Promote\n",
       "\n",
       "Coefficients:\n",
       "────────────────────────────────────────────────────────────────────────\n",
       "                Coef.  Std. Error      t  Pr(>|t|)  Lower 95%  Upper 95%\n",
       "────────────────────────────────────────────────────────────────────────\n",
       "(Intercept)   5.48587   34.718      0.16    0.8763   -67.7627    78.7344\n",
       "Promote      23.5064     0.606353  38.77    <1e-17    22.2271    24.7857\n",
       "────────────────────────────────────────────────────────────────────────"
      ]
     },
     "execution_count": 11,
     "metadata": {},
     "output_type": "execute_result"
    }
   ],
   "source": [
    "ols = lm(@formula(Sales ~ Promote) , df)"
   ]
  },
  {
   "cell_type": "markdown",
   "id": "8ca08958-1c65-45dc-8113-03e58916545e",
   "metadata": {},
   "source": [
    "see [Ordinary least squares - Wikipedia](https://en.wikipedia.org/wiki/Ordinary_least_squares)"
   ]
  },
  {
   "cell_type": "code",
   "execution_count": 12,
   "id": "7828ef68-c10c-4925-b003-1244b8c2c03b",
   "metadata": {},
   "outputs": [
    {
     "data": {
      "text/plain": [
       "1-element Vector{Union{Missing, Float64}}:\n",
       " 1180.8060164407912"
      ]
     },
     "execution_count": 12,
     "metadata": {},
     "output_type": "execute_result"
    }
   ],
   "source": [
    "predict(ols, DataFrame(Promote= [50]))"
   ]
  },
  {
   "cell_type": "markdown",
   "id": "4acf59ed-bd8a-42ad-a228-47d31b64cfd1",
   "metadata": {},
   "source": [
    "# Multiple Linear Regression\n",
    "\n",
    "## Case 2\n",
    "\n",
    "Given a dataset of various parameters of employee, predict the salary of an employee\n",
    "\n",
    "y= m0x0 + m1x1 + m2x2 + ... + c"
   ]
  },
  {
   "cell_type": "code",
   "execution_count": 13,
   "id": "75a49190-6da5-482c-9702-4f5e6bef858f",
   "metadata": {},
   "outputs": [
    {
     "data": {
      "text/html": [
       "<div><div style = \"float: left;\"><span>46×7 DataFrame</span></div><div style = \"float: right;\"><span style = \"font-style: italic;\">21 rows omitted</span></div><div style = \"clear: both;\"></div></div><div class = \"data-frame\" style = \"overflow-x: scroll;\"><table class = \"data-frame\" style = \"margin-bottom: 6px;\"><thead><tr class = \"header\"><th class = \"rowNumber\" style = \"font-weight: bold; text-align: right;\">Row</th><th style = \"text-align: left;\">Salary</th><th style = \"text-align: left;\">Years_Previous_Experience</th><th style = \"text-align: left;\">Years_Employed</th><th style = \"text-align: left;\">Years_Education</th><th style = \"text-align: left;\">Gender</th><th style = \"text-align: left;\">Department</th><th style = \"text-align: left;\">Number_Supervised</th></tr><tr class = \"subheader headerLastRow\"><th class = \"rowNumber\" style = \"font-weight: bold; text-align: right;\"></th><th title = \"Int64\" style = \"text-align: left;\">Int64</th><th title = \"Int64\" style = \"text-align: left;\">Int64</th><th title = \"Int64\" style = \"text-align: left;\">Int64</th><th title = \"Int64\" style = \"text-align: left;\">Int64</th><th title = \"String7\" style = \"text-align: left;\">String7</th><th title = \"String1\" style = \"text-align: left;\">String1</th><th title = \"Int64\" style = \"text-align: left;\">Int64</th></tr></thead><tbody><tr><td class = \"rowNumber\" style = \"font-weight: bold; text-align: right;\">1</td><td style = \"text-align: right;\">32782</td><td style = \"text-align: right;\">1</td><td style = \"text-align: right;\">0</td><td style = \"text-align: right;\">7</td><td style = \"text-align: left;\">Male</td><td style = \"text-align: left;\">A</td><td style = \"text-align: right;\">0</td></tr><tr><td class = \"rowNumber\" style = \"font-weight: bold; text-align: right;\">2</td><td style = \"text-align: right;\">32920</td><td style = \"text-align: right;\">3</td><td style = \"text-align: right;\">15</td><td style = \"text-align: right;\">9</td><td style = \"text-align: left;\">Female</td><td style = \"text-align: left;\">A</td><td style = \"text-align: right;\">4</td></tr><tr><td class = \"rowNumber\" style = \"font-weight: bold; text-align: right;\">3</td><td style = \"text-align: right;\">29548</td><td style = \"text-align: right;\">6</td><td style = \"text-align: right;\">5</td><td style = \"text-align: right;\">1</td><td style = \"text-align: left;\">Male</td><td style = \"text-align: left;\">A</td><td style = \"text-align: right;\">0</td></tr><tr><td class = \"rowNumber\" style = \"font-weight: bold; text-align: right;\">4</td><td style = \"text-align: right;\">39828</td><td style = \"text-align: right;\">6</td><td style = \"text-align: right;\">18</td><td style = \"text-align: right;\">5</td><td style = \"text-align: left;\">Female</td><td style = \"text-align: left;\">A</td><td style = \"text-align: right;\">5</td></tr><tr><td class = \"rowNumber\" style = \"font-weight: bold; text-align: right;\">5</td><td style = \"text-align: right;\">31528</td><td style = \"text-align: right;\">11</td><td style = \"text-align: right;\">3</td><td style = \"text-align: right;\">3</td><td style = \"text-align: left;\">Male</td><td style = \"text-align: left;\">A</td><td style = \"text-align: right;\">6</td></tr><tr><td class = \"rowNumber\" style = \"font-weight: bold; text-align: right;\">6</td><td style = \"text-align: right;\">38985</td><td style = \"text-align: right;\">7</td><td style = \"text-align: right;\">18</td><td style = \"text-align: right;\">9</td><td style = \"text-align: left;\">Male</td><td style = \"text-align: left;\">A</td><td style = \"text-align: right;\">5</td></tr><tr><td class = \"rowNumber\" style = \"font-weight: bold; text-align: right;\">7</td><td style = \"text-align: right;\">41889</td><td style = \"text-align: right;\">16</td><td style = \"text-align: right;\">22</td><td style = \"text-align: right;\">7</td><td style = \"text-align: left;\">Male</td><td style = \"text-align: left;\">A</td><td style = \"text-align: right;\">7</td></tr><tr><td class = \"rowNumber\" style = \"font-weight: bold; text-align: right;\">8</td><td style = \"text-align: right;\">38791</td><td style = \"text-align: right;\">4</td><td style = \"text-align: right;\">21</td><td style = \"text-align: right;\">5</td><td style = \"text-align: left;\">Male</td><td style = \"text-align: left;\">A</td><td style = \"text-align: right;\">9</td></tr><tr><td class = \"rowNumber\" style = \"font-weight: bold; text-align: right;\">9</td><td style = \"text-align: right;\">28985</td><td style = \"text-align: right;\">1</td><td style = \"text-align: right;\">0</td><td style = \"text-align: right;\">4</td><td style = \"text-align: left;\">Female</td><td style = \"text-align: left;\">A</td><td style = \"text-align: right;\">4</td></tr><tr><td class = \"rowNumber\" style = \"font-weight: bold; text-align: right;\">10</td><td style = \"text-align: right;\">24749</td><td style = \"text-align: right;\">2</td><td style = \"text-align: right;\">6</td><td style = \"text-align: right;\">0</td><td style = \"text-align: left;\">Female</td><td style = \"text-align: left;\">A</td><td style = \"text-align: right;\">1</td></tr><tr><td class = \"rowNumber\" style = \"font-weight: bold; text-align: right;\">11</td><td style = \"text-align: right;\">35467</td><td style = \"text-align: right;\">6</td><td style = \"text-align: right;\">3</td><td style = \"text-align: right;\">6</td><td style = \"text-align: left;\">Female</td><td style = \"text-align: left;\">B</td><td style = \"text-align: right;\">3</td></tr><tr><td class = \"rowNumber\" style = \"font-weight: bold; text-align: right;\">12</td><td style = \"text-align: right;\">35468</td><td style = \"text-align: right;\">5</td><td style = \"text-align: right;\">9</td><td style = \"text-align: right;\">4</td><td style = \"text-align: left;\">Female</td><td style = \"text-align: left;\">B</td><td style = \"text-align: right;\">5</td></tr><tr><td class = \"rowNumber\" style = \"font-weight: bold; text-align: right;\">13</td><td style = \"text-align: right;\">29876</td><td style = \"text-align: right;\">0</td><td style = \"text-align: right;\">2</td><td style = \"text-align: right;\">3</td><td style = \"text-align: left;\">Female</td><td style = \"text-align: left;\">B</td><td style = \"text-align: right;\">5</td></tr><tr><td style = \"text-align: right;\">&vellip;</td><td style = \"text-align: right;\">&vellip;</td><td style = \"text-align: right;\">&vellip;</td><td style = \"text-align: right;\">&vellip;</td><td style = \"text-align: right;\">&vellip;</td><td style = \"text-align: right;\">&vellip;</td><td style = \"text-align: right;\">&vellip;</td><td style = \"text-align: right;\">&vellip;</td></tr><tr><td class = \"rowNumber\" style = \"font-weight: bold; text-align: right;\">35</td><td style = \"text-align: right;\">68425</td><td style = \"text-align: right;\">2</td><td style = \"text-align: right;\">25</td><td style = \"text-align: right;\">12</td><td style = \"text-align: left;\">Male</td><td style = \"text-align: left;\">D</td><td style = \"text-align: right;\">1</td></tr><tr><td class = \"rowNumber\" style = \"font-weight: bold; text-align: right;\">36</td><td style = \"text-align: right;\">36487</td><td style = \"text-align: right;\">5</td><td style = \"text-align: right;\">6</td><td style = \"text-align: right;\">2</td><td style = \"text-align: left;\">Male</td><td style = \"text-align: left;\">D</td><td style = \"text-align: right;\">3</td></tr><tr><td class = \"rowNumber\" style = \"font-weight: bold; text-align: right;\">37</td><td style = \"text-align: right;\">34632</td><td style = \"text-align: right;\">4</td><td style = \"text-align: right;\">5</td><td style = \"text-align: right;\">4</td><td style = \"text-align: left;\">Male</td><td style = \"text-align: left;\">D</td><td style = \"text-align: right;\">0</td></tr><tr><td class = \"rowNumber\" style = \"font-weight: bold; text-align: right;\">38</td><td style = \"text-align: right;\">46211</td><td style = \"text-align: right;\">5</td><td style = \"text-align: right;\">14</td><td style = \"text-align: right;\">6</td><td style = \"text-align: left;\">Female</td><td style = \"text-align: left;\">D</td><td style = \"text-align: right;\">5</td></tr><tr><td class = \"rowNumber\" style = \"font-weight: bold; text-align: right;\">39</td><td style = \"text-align: right;\">51698</td><td style = \"text-align: right;\">6</td><td style = \"text-align: right;\">18</td><td style = \"text-align: right;\">6</td><td style = \"text-align: left;\">Male</td><td style = \"text-align: left;\">D</td><td style = \"text-align: right;\">1</td></tr><tr><td class = \"rowNumber\" style = \"font-weight: bold; text-align: right;\">40</td><td style = \"text-align: right;\">69246</td><td style = \"text-align: right;\">3</td><td style = \"text-align: right;\">22</td><td style = \"text-align: right;\">10</td><td style = \"text-align: left;\">Male</td><td style = \"text-align: left;\">D</td><td style = \"text-align: right;\">45</td></tr><tr><td class = \"rowNumber\" style = \"font-weight: bold; text-align: right;\">41</td><td style = \"text-align: right;\">48695</td><td style = \"text-align: right;\">19</td><td style = \"text-align: right;\">6</td><td style = \"text-align: right;\">8</td><td style = \"text-align: left;\">Male</td><td style = \"text-align: left;\">D</td><td style = \"text-align: right;\">40</td></tr><tr><td class = \"rowNumber\" style = \"font-weight: bold; text-align: right;\">42</td><td style = \"text-align: right;\">34987</td><td style = \"text-align: right;\">6</td><td style = \"text-align: right;\">9</td><td style = \"text-align: right;\">2</td><td style = \"text-align: left;\">Female</td><td style = \"text-align: left;\">D</td><td style = \"text-align: right;\">3</td></tr><tr><td class = \"rowNumber\" style = \"font-weight: bold; text-align: right;\">43</td><td style = \"text-align: right;\">35631</td><td style = \"text-align: right;\">4</td><td style = \"text-align: right;\">6</td><td style = \"text-align: right;\">4</td><td style = \"text-align: left;\">Male</td><td style = \"text-align: left;\">D</td><td style = \"text-align: right;\">2</td></tr><tr><td class = \"rowNumber\" style = \"font-weight: bold; text-align: right;\">44</td><td style = \"text-align: right;\">39743</td><td style = \"text-align: right;\">6</td><td style = \"text-align: right;\">9</td><td style = \"text-align: right;\">5</td><td style = \"text-align: left;\">Female</td><td style = \"text-align: left;\">D</td><td style = \"text-align: right;\">1</td></tr><tr><td class = \"rowNumber\" style = \"font-weight: bold; text-align: right;\">45</td><td style = \"text-align: right;\">41255</td><td style = \"text-align: right;\">4</td><td style = \"text-align: right;\">9</td><td style = \"text-align: right;\">6</td><td style = \"text-align: left;\">Male</td><td style = \"text-align: left;\">D</td><td style = \"text-align: right;\">4</td></tr><tr><td class = \"rowNumber\" style = \"font-weight: bold; text-align: right;\">46</td><td style = \"text-align: right;\">26452</td><td style = \"text-align: right;\">3</td><td style = \"text-align: right;\">1</td><td style = \"text-align: right;\">2</td><td style = \"text-align: left;\">Female</td><td style = \"text-align: left;\">D</td><td style = \"text-align: right;\">0</td></tr></tbody></table></div>"
      ],
      "text/latex": [
       "\\begin{tabular}{r|ccccccc}\n",
       "\t& Salary & Years\\_Previous\\_Experience & Years\\_Employed & Years\\_Education & Gender & Department & \\\\\n",
       "\t\\hline\n",
       "\t& Int64 & Int64 & Int64 & Int64 & String7 & String1 & \\\\\n",
       "\t\\hline\n",
       "\t1 & 32782 & 1 & 0 & 7 & Male & A & $\\dots$ \\\\\n",
       "\t2 & 32920 & 3 & 15 & 9 & Female & A & $\\dots$ \\\\\n",
       "\t3 & 29548 & 6 & 5 & 1 & Male & A & $\\dots$ \\\\\n",
       "\t4 & 39828 & 6 & 18 & 5 & Female & A & $\\dots$ \\\\\n",
       "\t5 & 31528 & 11 & 3 & 3 & Male & A & $\\dots$ \\\\\n",
       "\t6 & 38985 & 7 & 18 & 9 & Male & A & $\\dots$ \\\\\n",
       "\t7 & 41889 & 16 & 22 & 7 & Male & A & $\\dots$ \\\\\n",
       "\t8 & 38791 & 4 & 21 & 5 & Male & A & $\\dots$ \\\\\n",
       "\t9 & 28985 & 1 & 0 & 4 & Female & A & $\\dots$ \\\\\n",
       "\t10 & 24749 & 2 & 6 & 0 & Female & A & $\\dots$ \\\\\n",
       "\t11 & 35467 & 6 & 3 & 6 & Female & B & $\\dots$ \\\\\n",
       "\t12 & 35468 & 5 & 9 & 4 & Female & B & $\\dots$ \\\\\n",
       "\t13 & 29876 & 0 & 2 & 3 & Female & B & $\\dots$ \\\\\n",
       "\t14 & 43674 & 9 & 6 & 4 & Male & B & $\\dots$ \\\\\n",
       "\t15 & 36431 & 4 & 9 & 4 & Female & B & $\\dots$ \\\\\n",
       "\t16 & 26578 & 6 & 0 & 2 & Female & B & $\\dots$ \\\\\n",
       "\t17 & 36571 & 1 & 6 & 4 & Male & B & $\\dots$ \\\\\n",
       "\t18 & 56326 & 3 & 12 & 8 & Male & B & $\\dots$ \\\\\n",
       "\t19 & 23654 & 0 & 0 & 0 & Female & C & $\\dots$ \\\\\n",
       "\t20 & 36578 & 4 & 4 & 8 & Male & C & $\\dots$ \\\\\n",
       "\t21 & 37548 & 9 & 19 & 4 & Male & C & $\\dots$ \\\\\n",
       "\t22 & 53234 & 0 & 25 & 6 & Male & C & $\\dots$ \\\\\n",
       "\t23 & 54679 & 3 & 20 & 6 & Female & C & $\\dots$ \\\\\n",
       "\t24 & 47536 & 5 & 15 & 6 & Male & C & $\\dots$ \\\\\n",
       "\t25 & 31425 & 6 & 7 & 5 & Female & C & $\\dots$ \\\\\n",
       "\t26 & 65487 & 0 & 27 & 12 & Female & D & $\\dots$ \\\\\n",
       "\t27 & 46184 & 3 & 20 & 4 & Male & D & $\\dots$ \\\\\n",
       "\t28 & 54899 & 5 & 12 & 8 & Female & D & $\\dots$ \\\\\n",
       "\t29 & 34869 & 5 & 7 & 4 & Female & D & $\\dots$ \\\\\n",
       "\t30 & 35487 & 2 & 8 & 2 & Female & D & $\\dots$ \\\\\n",
       "\t$\\dots$ & $\\dots$ & $\\dots$ & $\\dots$ & $\\dots$ & $\\dots$ & $\\dots$ &  \\\\\n",
       "\\end{tabular}\n"
      ],
      "text/plain": [
       "\u001b[1m46×7 DataFrame\u001b[0m\n",
       "\u001b[1m Row \u001b[0m│\u001b[1m Salary \u001b[0m\u001b[1m Years_Previous_Experience \u001b[0m\u001b[1m Years_Employed \u001b[0m\u001b[1m Years_Education \u001b[0m\u001b[1m Gen\u001b[0m ⋯\n",
       "     │\u001b[90m Int64  \u001b[0m\u001b[90m Int64                     \u001b[0m\u001b[90m Int64          \u001b[0m\u001b[90m Int64           \u001b[0m\u001b[90m Str\u001b[0m ⋯\n",
       "─────┼──────────────────────────────────────────────────────────────────────────\n",
       "   1 │  32782                          1               0                7  Mal ⋯\n",
       "   2 │  32920                          3              15                9  Fem\n",
       "   3 │  29548                          6               5                1  Mal\n",
       "   4 │  39828                          6              18                5  Fem\n",
       "   5 │  31528                         11               3                3  Mal ⋯\n",
       "   6 │  38985                          7              18                9  Mal\n",
       "   7 │  41889                         16              22                7  Mal\n",
       "   8 │  38791                          4              21                5  Mal\n",
       "   9 │  28985                          1               0                4  Fem ⋯\n",
       "  10 │  24749                          2               6                0  Fem\n",
       "  11 │  35467                          6               3                6  Fem\n",
       "  ⋮  │   ⋮                 ⋮                    ⋮                ⋮             ⋱\n",
       "  37 │  34632                          4               5                4  Mal\n",
       "  38 │  46211                          5              14                6  Fem ⋯\n",
       "  39 │  51698                          6              18                6  Mal\n",
       "  40 │  69246                          3              22               10  Mal\n",
       "  41 │  48695                         19               6                8  Mal\n",
       "  42 │  34987                          6               9                2  Fem ⋯\n",
       "  43 │  35631                          4               6                4  Mal\n",
       "  44 │  39743                          6               9                5  Fem\n",
       "  45 │  41255                          4               9                6  Mal\n",
       "  46 │  26452                          3               1                2  Fem ⋯\n",
       "\u001b[36m                                                   3 columns and 25 rows omitted\u001b[0m"
      ]
     },
     "execution_count": 13,
     "metadata": {},
     "output_type": "execute_result"
    }
   ],
   "source": [
    "df2 = CSV.read(\"data/salary.csv\", DataFrame)"
   ]
  },
  {
   "cell_type": "code",
   "execution_count": 14,
   "id": "cfcb5b31-dfd8-49d0-be10-67bf4a88fcf1",
   "metadata": {},
   "outputs": [
    {
     "data": {
      "text/plain": [
       "7-element Vector{String}:\n",
       " \"Salary\"\n",
       " \"Years_Previous_Experience\"\n",
       " \"Years_Employed\"\n",
       " \"Years_Education\"\n",
       " \"Gender\"\n",
       " \"Department\"\n",
       " \"Number_Supervised\""
      ]
     },
     "execution_count": 14,
     "metadata": {},
     "output_type": "execute_result"
    }
   ],
   "source": [
    "names(df2)"
   ]
  },
  {
   "cell_type": "code",
   "execution_count": 15,
   "id": "91d79472-9014-4d38-8db1-f1ea69cba214",
   "metadata": {},
   "outputs": [
    {
     "data": {
      "text/plain": [
       "StatsModels.TableRegressionModel{LinearModel{GLM.LmResp{Vector{Float64}}, GLM.DensePredChol{Float64, LinearAlgebra.CholeskyPivoted{Float64, Matrix{Float64}, Vector{Int64}}}}, Matrix{Float64}}\n",
       "\n",
       "Salary ~ 1 + Years_Previous_Experience + Years_Employed + Years_Education + Gender\n",
       "\n",
       "Coefficients:\n",
       "───────────────────────────────────────────────────────────────────────────────────────\n",
       "                               Coef.  Std. Error      t  Pr(>|t|)  Lower 95%  Upper 95%\n",
       "───────────────────────────────────────────────────────────────────────────────────────\n",
       "(Intercept)                23167.1      2072.0    11.18    <1e-13   18982.6   27351.6\n",
       "Years_Previous_Experience   -114.747     239.075  -0.48    0.6338    -597.57    368.075\n",
       "Years_Employed               656.497     144.942   4.53    <1e-04     363.78    949.214\n",
       "Years_Education             1903.99      386.932   4.92    <1e-04    1122.56   2685.41\n",
       "Gender: Male                1468.1      1804.27    0.81    0.4205   -2175.69   5111.9\n",
       "───────────────────────────────────────────────────────────────────────────────────────"
      ]
     },
     "execution_count": 15,
     "metadata": {},
     "output_type": "execute_result"
    }
   ],
   "source": [
    "ols2 = lm(@formula(Salary ~ Years_Previous_Experience + Years_Employed + Years_Education + Gender ) , df2)"
   ]
  },
  {
   "cell_type": "markdown",
   "id": "ffe57e35-3031-4bb3-b962-c0843fbf9d84",
   "metadata": {},
   "source": [
    "_Note: GLM can natively handle categorical data, but good to perform feature engineering first_\n",
    "\n",
    "From above, we can see previous year experience is not helpful to adding salary. Other parameters such as higher education, more years in the existing firm and being male has a higher impact to salary."
   ]
  },
  {
   "cell_type": "code",
   "execution_count": 16,
   "id": "b919b17e-6c5d-414b-bb0b-2faefb25f830",
   "metadata": {},
   "outputs": [
    {
     "data": {
      "text/plain": [
       "1-element Vector{Union{Missing, Float64}}:\n",
       " 51504.785908407575"
      ]
     },
     "execution_count": 16,
     "metadata": {},
     "output_type": "execute_result"
    }
   ],
   "source": [
    "predict(ols2, DataFrame(Years_Previous_Experience = [5], Years_Employed = [7], Years_Education  = [12], Gender =[\"Male\"]))"
   ]
  },
  {
   "cell_type": "code",
   "execution_count": 17,
   "id": "c017ae66-142f-44c0-8426-3f85db9e2689",
   "metadata": {},
   "outputs": [
    {
     "data": {
      "text/plain": [
       "1-element Vector{Union{Missing, Float64}}:\n",
       " 50036.684170865985"
      ]
     },
     "execution_count": 17,
     "metadata": {},
     "output_type": "execute_result"
    }
   ],
   "source": [
    "predict(ols2, DataFrame(Years_Previous_Experience = [5], Years_Employed = [7], Years_Education  = [12], Gender =[\"Female\"]))"
   ]
  },
  {
   "cell_type": "markdown",
   "id": "dafe84eb-cb03-47a6-a5db-848cd95fd966",
   "metadata": {},
   "source": [
    "Above shows that for 2 candidates with the same experience, a male employee earns more than his female counterpart"
   ]
  },
  {
   "cell_type": "code",
   "execution_count": 18,
   "id": "c4dd8322-18a3-4dca-9f25-ca921155f397",
   "metadata": {},
   "outputs": [
    {
     "data": {
      "text/plain": [
       "2-element Vector{Union{Missing, Float64}}:\n",
       " 51504.785908407575\n",
       " 57176.381833773645"
      ]
     },
     "execution_count": 18,
     "metadata": {},
     "output_type": "execute_result"
    }
   ],
   "source": [
    "predict(ols2, DataFrame(Years_Previous_Experience = [5 , 4], Years_Employed = [7 , 9], Years_Education  = [12, 15], Gender =[\"Male\", \"Female\"]))"
   ]
  },
  {
   "cell_type": "code",
   "execution_count": null,
   "id": "36200e23-6843-487f-b114-93fd47522e2e",
   "metadata": {},
   "outputs": [],
   "source": []
  }
 ],
 "metadata": {
  "kernelspec": {
   "display_name": "Julia 1.8.5",
   "language": "julia",
   "name": "julia-1.8"
  },
  "language_info": {
   "file_extension": ".jl",
   "mimetype": "application/julia",
   "name": "julia",
   "version": "1.8.5"
  }
 },
 "nbformat": 4,
 "nbformat_minor": 5
}
