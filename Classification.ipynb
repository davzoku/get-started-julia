{
 "cells": [
  {
   "cell_type": "markdown",
   "id": "25478e84-9b66-4ff8-8f9c-ce5085f5a1d2",
   "metadata": {},
   "source": [
    "# Classification \n",
    "\n",
    "_Reference:_\n",
    "[Julia Programming For Data Science & Machine Learning: Julia | Udemy](https://www.udemy.com/course/julialang/)\n",
    "\n",
    "## Logistic Regression\n",
    "\n",
    "### Case 1\n",
    "\n",
    "Map a relationship between camera_mp and price, and classify them as 1 or 0 for camera_mp"
   ]
  },
  {
   "cell_type": "code",
   "execution_count": 1,
   "id": "dbaf161c-0298-4704-8b8f-1dd750495ae2",
   "metadata": {},
   "outputs": [],
   "source": [
    "using CSV, DataFrames, Plots, GLM"
   ]
  },
  {
   "cell_type": "code",
   "execution_count": 2,
   "id": "dc158497-10ca-4693-bb3d-99127760e2a0",
   "metadata": {},
   "outputs": [
    {
     "data": {
      "text/html": [
       "<div><div style = \"float: left;\"><span>18×2 DataFrame</span></div><div style = \"clear: both;\"></div></div><div class = \"data-frame\" style = \"overflow-x: scroll;\"><table class = \"data-frame\" style = \"margin-bottom: 6px;\"><thead><tr class = \"header\"><th class = \"rowNumber\" style = \"font-weight: bold; text-align: right;\">Row</th><th style = \"text-align: left;\">price</th><th style = \"text-align: left;\">camera_mp</th></tr><tr class = \"subheader headerLastRow\"><th class = \"rowNumber\" style = \"font-weight: bold; text-align: right;\"></th><th title = \"Int64\" style = \"text-align: left;\">Int64</th><th title = \"Int64\" style = \"text-align: left;\">Int64</th></tr></thead><tbody><tr><td class = \"rowNumber\" style = \"font-weight: bold; text-align: right;\">1</td><td style = \"text-align: right;\">890</td><td style = \"text-align: right;\">1</td></tr><tr><td class = \"rowNumber\" style = \"font-weight: bold; text-align: right;\">2</td><td style = \"text-align: right;\">620</td><td style = \"text-align: right;\">1</td></tr><tr><td class = \"rowNumber\" style = \"font-weight: bold; text-align: right;\">3</td><td style = \"text-align: right;\">730</td><td style = \"text-align: right;\">1</td></tr><tr><td class = \"rowNumber\" style = \"font-weight: bold; text-align: right;\">4</td><td style = \"text-align: right;\">480</td><td style = \"text-align: right;\">1</td></tr><tr><td class = \"rowNumber\" style = \"font-weight: bold; text-align: right;\">5</td><td style = \"text-align: right;\">1060</td><td style = \"text-align: right;\">1</td></tr><tr><td class = \"rowNumber\" style = \"font-weight: bold; text-align: right;\">6</td><td style = \"text-align: right;\">450</td><td style = \"text-align: right;\">1</td></tr><tr><td class = \"rowNumber\" style = \"font-weight: bold; text-align: right;\">7</td><td style = \"text-align: right;\">540</td><td style = \"text-align: right;\">1</td></tr><tr><td class = \"rowNumber\" style = \"font-weight: bold; text-align: right;\">8</td><td style = \"text-align: right;\">500</td><td style = \"text-align: right;\">1</td></tr><tr><td class = \"rowNumber\" style = \"font-weight: bold; text-align: right;\">9</td><td style = \"text-align: right;\">890</td><td style = \"text-align: right;\">1</td></tr><tr><td class = \"rowNumber\" style = \"font-weight: bold; text-align: right;\">10</td><td style = \"text-align: right;\">440</td><td style = \"text-align: right;\">1</td></tr><tr><td class = \"rowNumber\" style = \"font-weight: bold; text-align: right;\">11</td><td style = \"text-align: right;\">280</td><td style = \"text-align: right;\">0</td></tr><tr><td class = \"rowNumber\" style = \"font-weight: bold; text-align: right;\">12</td><td style = \"text-align: right;\">290</td><td style = \"text-align: right;\">0</td></tr><tr><td class = \"rowNumber\" style = \"font-weight: bold; text-align: right;\">13</td><td style = \"text-align: right;\">370</td><td style = \"text-align: right;\">0</td></tr><tr><td class = \"rowNumber\" style = \"font-weight: bold; text-align: right;\">14</td><td style = \"text-align: right;\">400</td><td style = \"text-align: right;\">0</td></tr><tr><td class = \"rowNumber\" style = \"font-weight: bold; text-align: right;\">15</td><td style = \"text-align: right;\">310</td><td style = \"text-align: right;\">0</td></tr><tr><td class = \"rowNumber\" style = \"font-weight: bold; text-align: right;\">16</td><td style = \"text-align: right;\">340</td><td style = \"text-align: right;\">0</td></tr><tr><td class = \"rowNumber\" style = \"font-weight: bold; text-align: right;\">17</td><td style = \"text-align: right;\">270</td><td style = \"text-align: right;\">0</td></tr><tr><td class = \"rowNumber\" style = \"font-weight: bold; text-align: right;\">18</td><td style = \"text-align: right;\">380</td><td style = \"text-align: right;\">0</td></tr></tbody></table></div>"
      ],
      "text/latex": [
       "\\begin{tabular}{r|cc}\n",
       "\t& price & camera\\_mp\\\\\n",
       "\t\\hline\n",
       "\t& Int64 & Int64\\\\\n",
       "\t\\hline\n",
       "\t1 & 890 & 1 \\\\\n",
       "\t2 & 620 & 1 \\\\\n",
       "\t3 & 730 & 1 \\\\\n",
       "\t4 & 480 & 1 \\\\\n",
       "\t5 & 1060 & 1 \\\\\n",
       "\t6 & 450 & 1 \\\\\n",
       "\t7 & 540 & 1 \\\\\n",
       "\t8 & 500 & 1 \\\\\n",
       "\t9 & 890 & 1 \\\\\n",
       "\t10 & 440 & 1 \\\\\n",
       "\t11 & 280 & 0 \\\\\n",
       "\t12 & 290 & 0 \\\\\n",
       "\t13 & 370 & 0 \\\\\n",
       "\t14 & 400 & 0 \\\\\n",
       "\t15 & 310 & 0 \\\\\n",
       "\t16 & 340 & 0 \\\\\n",
       "\t17 & 270 & 0 \\\\\n",
       "\t18 & 380 & 0 \\\\\n",
       "\\end{tabular}\n"
      ],
      "text/plain": [
       "\u001b[1m18×2 DataFrame\u001b[0m\n",
       "\u001b[1m Row \u001b[0m│\u001b[1m price \u001b[0m\u001b[1m camera_mp \u001b[0m\n",
       "     │\u001b[90m Int64 \u001b[0m\u001b[90m Int64     \u001b[0m\n",
       "─────┼──────────────────\n",
       "   1 │   890          1\n",
       "   2 │   620          1\n",
       "   3 │   730          1\n",
       "   4 │   480          1\n",
       "   5 │  1060          1\n",
       "   6 │   450          1\n",
       "   7 │   540          1\n",
       "   8 │   500          1\n",
       "   9 │   890          1\n",
       "  10 │   440          1\n",
       "  11 │   280          0\n",
       "  12 │   290          0\n",
       "  13 │   370          0\n",
       "  14 │   400          0\n",
       "  15 │   310          0\n",
       "  16 │   340          0\n",
       "  17 │   270          0\n",
       "  18 │   380          0"
      ]
     },
     "execution_count": 2,
     "metadata": {},
     "output_type": "execute_result"
    }
   ],
   "source": [
    "df = CSV.read(\"data/camera.csv\", DataFrame)"
   ]
  },
  {
   "cell_type": "code",
   "execution_count": 3,
   "id": "4a577c38-9550-4ba6-af43-ea2db80e18c2",
   "metadata": {},
   "outputs": [
    {
     "data": {
      "text/plain": [
       "2-element Vector{String}:\n",
       " \"price\"\n",
       " \"camera_mp\""
      ]
     },
     "execution_count": 3,
     "metadata": {},
     "output_type": "execute_result"
    }
   ],
   "source": [
    "names(df)"
   ]
  },
  {
   "cell_type": "code",
   "execution_count": 4,
   "id": "d05520ac-d529-4f6c-a1d2-b059ea2d7f2a",
   "metadata": {},
   "outputs": [
    {
     "data": {
      "image/svg+xml": [
       "<?xml version=\"1.0\" encoding=\"utf-8\"?>\n",
       "<svg xmlns=\"http://www.w3.org/2000/svg\" xmlns:xlink=\"http://www.w3.org/1999/xlink\" width=\"600\" height=\"400\" viewBox=\"0 0 2400 1600\">\n",
       "<defs>\n",
       "  <clipPath id=\"clip790\">\n",
       "    <rect x=\"0\" y=\"0\" width=\"2400\" height=\"1600\"/>\n",
       "  </clipPath>\n",
       "</defs>\n",
       "<path clip-path=\"url(#clip790)\" d=\"M0 1600 L2400 1600 L2400 0 L0 0  Z\" fill=\"#ffffff\" fill-rule=\"evenodd\" fill-opacity=\"1\"/>\n",
       "<defs>\n",
       "  <clipPath id=\"clip791\">\n",
       "    <rect x=\"480\" y=\"0\" width=\"1681\" height=\"1600\"/>\n",
       "  </clipPath>\n",
       "</defs>\n",
       "<path clip-path=\"url(#clip790)\" d=\"M186.274 1486.45 L2352.76 1486.45 L2352.76 47.2441 L186.274 47.2441  Z\" fill=\"#ffffff\" fill-rule=\"evenodd\" fill-opacity=\"1\"/>\n",
       "<defs>\n",
       "  <clipPath id=\"clip792\">\n",
       "    <rect x=\"186\" y=\"47\" width=\"2167\" height=\"1440\"/>\n",
       "  </clipPath>\n",
       "</defs>\n",
       "<polyline clip-path=\"url(#clip792)\" style=\"stroke:#000000; stroke-linecap:round; stroke-linejoin:round; stroke-width:2; stroke-opacity:0.1; fill:none\" points=\"583.919,1486.45 583.919,47.2441 \"/>\n",
       "<polyline clip-path=\"url(#clip792)\" style=\"stroke:#000000; stroke-linecap:round; stroke-linejoin:round; stroke-width:2; stroke-opacity:0.1; fill:none\" points=\"1101.35,1486.45 1101.35,47.2441 \"/>\n",
       "<polyline clip-path=\"url(#clip792)\" style=\"stroke:#000000; stroke-linecap:round; stroke-linejoin:round; stroke-width:2; stroke-opacity:0.1; fill:none\" points=\"1618.78,1486.45 1618.78,47.2441 \"/>\n",
       "<polyline clip-path=\"url(#clip792)\" style=\"stroke:#000000; stroke-linecap:round; stroke-linejoin:round; stroke-width:2; stroke-opacity:0.1; fill:none\" points=\"2136.21,1486.45 2136.21,47.2441 \"/>\n",
       "<polyline clip-path=\"url(#clip790)\" style=\"stroke:#000000; stroke-linecap:round; stroke-linejoin:round; stroke-width:4; stroke-opacity:1; fill:none\" points=\"186.274,1486.45 2352.76,1486.45 \"/>\n",
       "<polyline clip-path=\"url(#clip790)\" style=\"stroke:#000000; stroke-linecap:round; stroke-linejoin:round; stroke-width:4; stroke-opacity:1; fill:none\" points=\"583.919,1486.45 583.919,1467.55 \"/>\n",
       "<polyline clip-path=\"url(#clip790)\" style=\"stroke:#000000; stroke-linecap:round; stroke-linejoin:round; stroke-width:4; stroke-opacity:1; fill:none\" points=\"1101.35,1486.45 1101.35,1467.55 \"/>\n",
       "<polyline clip-path=\"url(#clip790)\" style=\"stroke:#000000; stroke-linecap:round; stroke-linejoin:round; stroke-width:4; stroke-opacity:1; fill:none\" points=\"1618.78,1486.45 1618.78,1467.55 \"/>\n",
       "<polyline clip-path=\"url(#clip790)\" style=\"stroke:#000000; stroke-linecap:round; stroke-linejoin:round; stroke-width:4; stroke-opacity:1; fill:none\" points=\"2136.21,1486.45 2136.21,1467.55 \"/>\n",
       "<path clip-path=\"url(#clip790)\" d=\"M557.01 1518.36 L545.204 1536.81 L557.01 1536.81 L557.01 1518.36 M555.783 1514.29 L561.663 1514.29 L561.663 1536.81 L566.593 1536.81 L566.593 1540.7 L561.663 1540.7 L561.663 1548.85 L557.01 1548.85 L557.01 1540.7 L541.408 1540.7 L541.408 1536.19 L555.783 1514.29 Z\" fill=\"#000000\" fill-rule=\"evenodd\" fill-opacity=\"1\" /><path clip-path=\"url(#clip790)\" d=\"M584.325 1517.37 Q580.713 1517.37 578.885 1520.93 Q577.079 1524.47 577.079 1531.6 Q577.079 1538.71 578.885 1542.27 Q580.713 1545.82 584.325 1545.82 Q587.959 1545.82 589.764 1542.27 Q591.593 1538.71 591.593 1531.6 Q591.593 1524.47 589.764 1520.93 Q587.959 1517.37 584.325 1517.37 M584.325 1513.66 Q590.135 1513.66 593.19 1518.27 Q596.269 1522.85 596.269 1531.6 Q596.269 1540.33 593.19 1544.94 Q590.135 1549.52 584.325 1549.52 Q578.514 1549.52 575.436 1544.94 Q572.38 1540.33 572.38 1531.6 Q572.38 1522.85 575.436 1518.27 Q578.514 1513.66 584.325 1513.66 Z\" fill=\"#000000\" fill-rule=\"evenodd\" fill-opacity=\"1\" /><path clip-path=\"url(#clip790)\" d=\"M614.486 1517.37 Q610.875 1517.37 609.047 1520.93 Q607.241 1524.47 607.241 1531.6 Q607.241 1538.71 609.047 1542.27 Q610.875 1545.82 614.486 1545.82 Q618.121 1545.82 619.926 1542.27 Q621.755 1538.71 621.755 1531.6 Q621.755 1524.47 619.926 1520.93 Q618.121 1517.37 614.486 1517.37 M614.486 1513.66 Q620.297 1513.66 623.352 1518.27 Q626.431 1522.85 626.431 1531.6 Q626.431 1540.33 623.352 1544.94 Q620.297 1549.52 614.486 1549.52 Q608.676 1549.52 605.598 1544.94 Q602.542 1540.33 602.542 1531.6 Q602.542 1522.85 605.598 1518.27 Q608.676 1513.66 614.486 1513.66 Z\" fill=\"#000000\" fill-rule=\"evenodd\" fill-opacity=\"1\" /><path clip-path=\"url(#clip790)\" d=\"M1071.67 1529.7 Q1068.53 1529.7 1066.67 1531.86 Q1064.85 1534.01 1064.85 1537.76 Q1064.85 1541.49 1066.67 1543.66 Q1068.53 1545.82 1071.67 1545.82 Q1074.82 1545.82 1076.65 1543.66 Q1078.5 1541.49 1078.5 1537.76 Q1078.5 1534.01 1076.65 1531.86 Q1074.82 1529.7 1071.67 1529.7 M1080.96 1515.05 L1080.96 1519.31 Q1079.2 1518.48 1077.39 1518.04 Q1075.61 1517.6 1073.85 1517.6 Q1069.22 1517.6 1066.77 1520.72 Q1064.34 1523.85 1063.99 1530.17 Q1065.35 1528.15 1067.42 1527.09 Q1069.48 1526 1071.95 1526 Q1077.16 1526 1080.17 1529.17 Q1083.2 1532.32 1083.2 1537.76 Q1083.2 1543.08 1080.05 1546.3 Q1076.91 1549.52 1071.67 1549.52 Q1065.68 1549.52 1062.51 1544.94 Q1059.34 1540.33 1059.34 1531.6 Q1059.34 1523.41 1063.23 1518.55 Q1067.11 1513.66 1073.66 1513.66 Q1075.42 1513.66 1077.21 1514.01 Q1079.01 1514.36 1080.96 1515.05 Z\" fill=\"#000000\" fill-rule=\"evenodd\" fill-opacity=\"1\" /><path clip-path=\"url(#clip790)\" d=\"M1101.26 1517.37 Q1097.65 1517.37 1095.82 1520.93 Q1094.01 1524.47 1094.01 1531.6 Q1094.01 1538.71 1095.82 1542.27 Q1097.65 1545.82 1101.26 1545.82 Q1104.89 1545.82 1106.7 1542.27 Q1108.53 1538.71 1108.53 1531.6 Q1108.53 1524.47 1106.7 1520.93 Q1104.89 1517.37 1101.26 1517.37 M1101.26 1513.66 Q1107.07 1513.66 1110.12 1518.27 Q1113.2 1522.85 1113.2 1531.6 Q1113.2 1540.33 1110.12 1544.94 Q1107.07 1549.52 1101.26 1549.52 Q1095.45 1549.52 1092.37 1544.94 Q1089.31 1540.33 1089.31 1531.6 Q1089.31 1522.85 1092.37 1518.27 Q1095.45 1513.66 1101.26 1513.66 Z\" fill=\"#000000\" fill-rule=\"evenodd\" fill-opacity=\"1\" /><path clip-path=\"url(#clip790)\" d=\"M1131.42 1517.37 Q1127.81 1517.37 1125.98 1520.93 Q1124.17 1524.47 1124.17 1531.6 Q1124.17 1538.71 1125.98 1542.27 Q1127.81 1545.82 1131.42 1545.82 Q1135.05 1545.82 1136.86 1542.27 Q1138.69 1538.71 1138.69 1531.6 Q1138.69 1524.47 1136.86 1520.93 Q1135.05 1517.37 1131.42 1517.37 M1131.42 1513.66 Q1137.23 1513.66 1140.28 1518.27 Q1143.36 1522.85 1143.36 1531.6 Q1143.36 1540.33 1140.28 1544.94 Q1137.23 1549.52 1131.42 1549.52 Q1125.61 1549.52 1122.53 1544.94 Q1119.47 1540.33 1119.47 1531.6 Q1119.47 1522.85 1122.53 1518.27 Q1125.61 1513.66 1131.42 1513.66 Z\" fill=\"#000000\" fill-rule=\"evenodd\" fill-opacity=\"1\" /><path clip-path=\"url(#clip790)\" d=\"M1588.57 1532.44 Q1585.24 1532.44 1583.32 1534.22 Q1581.42 1536 1581.42 1539.13 Q1581.42 1542.25 1583.32 1544.03 Q1585.24 1545.82 1588.57 1545.82 Q1591.91 1545.82 1593.83 1544.03 Q1595.75 1542.23 1595.75 1539.13 Q1595.75 1536 1593.83 1534.22 Q1591.93 1532.44 1588.57 1532.44 M1583.9 1530.45 Q1580.89 1529.7 1579.2 1527.64 Q1577.53 1525.58 1577.53 1522.62 Q1577.53 1518.48 1580.47 1516.07 Q1583.43 1513.66 1588.57 1513.66 Q1593.73 1513.66 1596.67 1516.07 Q1599.61 1518.48 1599.61 1522.62 Q1599.61 1525.58 1597.92 1527.64 Q1596.26 1529.7 1593.27 1530.45 Q1596.65 1531.23 1598.53 1533.52 Q1600.42 1535.82 1600.42 1539.13 Q1600.42 1544.15 1597.35 1546.83 Q1594.29 1549.52 1588.57 1549.52 Q1582.85 1549.52 1579.78 1546.83 Q1576.72 1544.15 1576.72 1539.13 Q1576.72 1535.82 1578.62 1533.52 Q1580.52 1531.23 1583.9 1530.45 M1582.18 1523.06 Q1582.18 1525.75 1583.85 1527.25 Q1585.54 1528.76 1588.57 1528.76 Q1591.58 1528.76 1593.27 1527.25 Q1594.98 1525.75 1594.98 1523.06 Q1594.98 1520.38 1593.27 1518.87 Q1591.58 1517.37 1588.57 1517.37 Q1585.54 1517.37 1583.85 1518.87 Q1582.18 1520.38 1582.18 1523.06 Z\" fill=\"#000000\" fill-rule=\"evenodd\" fill-opacity=\"1\" /><path clip-path=\"url(#clip790)\" d=\"M1618.73 1517.37 Q1615.12 1517.37 1613.29 1520.93 Q1611.49 1524.47 1611.49 1531.6 Q1611.49 1538.71 1613.29 1542.27 Q1615.12 1545.82 1618.73 1545.82 Q1622.37 1545.82 1624.17 1542.27 Q1626 1538.71 1626 1531.6 Q1626 1524.47 1624.17 1520.93 Q1622.37 1517.37 1618.73 1517.37 M1618.73 1513.66 Q1624.54 1513.66 1627.6 1518.27 Q1630.68 1522.85 1630.68 1531.6 Q1630.68 1540.33 1627.6 1544.94 Q1624.54 1549.52 1618.73 1549.52 Q1612.92 1549.52 1609.85 1544.94 Q1606.79 1540.33 1606.79 1531.6 Q1606.79 1522.85 1609.85 1518.27 Q1612.92 1513.66 1618.73 1513.66 Z\" fill=\"#000000\" fill-rule=\"evenodd\" fill-opacity=\"1\" /><path clip-path=\"url(#clip790)\" d=\"M1648.9 1517.37 Q1645.29 1517.37 1643.46 1520.93 Q1641.65 1524.47 1641.65 1531.6 Q1641.65 1538.71 1643.46 1542.27 Q1645.29 1545.82 1648.9 1545.82 Q1652.53 1545.82 1654.34 1542.27 Q1656.16 1538.71 1656.16 1531.6 Q1656.16 1524.47 1654.34 1520.93 Q1652.53 1517.37 1648.9 1517.37 M1648.9 1513.66 Q1654.71 1513.66 1657.76 1518.27 Q1660.84 1522.85 1660.84 1531.6 Q1660.84 1540.33 1657.76 1544.94 Q1654.71 1549.52 1648.9 1549.52 Q1643.09 1549.52 1640.01 1544.94 Q1636.95 1540.33 1636.95 1531.6 Q1636.95 1522.85 1640.01 1518.27 Q1643.09 1513.66 1648.9 1513.66 Z\" fill=\"#000000\" fill-rule=\"evenodd\" fill-opacity=\"1\" /><path clip-path=\"url(#clip790)\" d=\"M2080.74 1544.91 L2088.38 1544.91 L2088.38 1518.55 L2080.07 1520.21 L2080.07 1515.95 L2088.33 1514.29 L2093.01 1514.29 L2093.01 1544.91 L2100.64 1544.91 L2100.64 1548.85 L2080.74 1548.85 L2080.74 1544.91 Z\" fill=\"#000000\" fill-rule=\"evenodd\" fill-opacity=\"1\" /><path clip-path=\"url(#clip790)\" d=\"M2120.09 1517.37 Q2116.48 1517.37 2114.65 1520.93 Q2112.84 1524.47 2112.84 1531.6 Q2112.84 1538.71 2114.65 1542.27 Q2116.48 1545.82 2120.09 1545.82 Q2123.72 1545.82 2125.53 1542.27 Q2127.36 1538.71 2127.36 1531.6 Q2127.36 1524.47 2125.53 1520.93 Q2123.72 1517.37 2120.09 1517.37 M2120.09 1513.66 Q2125.9 1513.66 2128.95 1518.27 Q2132.03 1522.85 2132.03 1531.6 Q2132.03 1540.33 2128.95 1544.94 Q2125.9 1549.52 2120.09 1549.52 Q2114.28 1549.52 2111.2 1544.94 Q2108.14 1540.33 2108.14 1531.6 Q2108.14 1522.85 2111.2 1518.27 Q2114.28 1513.66 2120.09 1513.66 Z\" fill=\"#000000\" fill-rule=\"evenodd\" fill-opacity=\"1\" /><path clip-path=\"url(#clip790)\" d=\"M2150.25 1517.37 Q2146.64 1517.37 2144.81 1520.93 Q2143.01 1524.47 2143.01 1531.6 Q2143.01 1538.71 2144.81 1542.27 Q2146.64 1545.82 2150.25 1545.82 Q2153.88 1545.82 2155.69 1542.27 Q2157.52 1538.71 2157.52 1531.6 Q2157.52 1524.47 2155.69 1520.93 Q2153.88 1517.37 2150.25 1517.37 M2150.25 1513.66 Q2156.06 1513.66 2159.12 1518.27 Q2162.19 1522.85 2162.19 1531.6 Q2162.19 1540.33 2159.12 1544.94 Q2156.06 1549.52 2150.25 1549.52 Q2144.44 1549.52 2141.36 1544.94 Q2138.31 1540.33 2138.31 1531.6 Q2138.31 1522.85 2141.36 1518.27 Q2144.44 1513.66 2150.25 1513.66 Z\" fill=\"#000000\" fill-rule=\"evenodd\" fill-opacity=\"1\" /><path clip-path=\"url(#clip790)\" d=\"M2180.41 1517.37 Q2176.8 1517.37 2174.97 1520.93 Q2173.17 1524.47 2173.17 1531.6 Q2173.17 1538.71 2174.97 1542.27 Q2176.8 1545.82 2180.41 1545.82 Q2184.05 1545.82 2185.85 1542.27 Q2187.68 1538.71 2187.68 1531.6 Q2187.68 1524.47 2185.85 1520.93 Q2184.05 1517.37 2180.41 1517.37 M2180.41 1513.66 Q2186.22 1513.66 2189.28 1518.27 Q2192.36 1522.85 2192.36 1531.6 Q2192.36 1540.33 2189.28 1544.94 Q2186.22 1549.52 2180.41 1549.52 Q2174.6 1549.52 2171.52 1544.94 Q2168.47 1540.33 2168.47 1531.6 Q2168.47 1522.85 2171.52 1518.27 Q2174.6 1513.66 2180.41 1513.66 Z\" fill=\"#000000\" fill-rule=\"evenodd\" fill-opacity=\"1\" /><polyline clip-path=\"url(#clip792)\" style=\"stroke:#000000; stroke-linecap:round; stroke-linejoin:round; stroke-width:2; stroke-opacity:0.1; fill:none\" points=\"186.274,1445.72 2352.76,1445.72 \"/>\n",
       "<polyline clip-path=\"url(#clip792)\" style=\"stroke:#000000; stroke-linecap:round; stroke-linejoin:round; stroke-width:2; stroke-opacity:0.1; fill:none\" points=\"186.274,1106.28 2352.76,1106.28 \"/>\n",
       "<polyline clip-path=\"url(#clip792)\" style=\"stroke:#000000; stroke-linecap:round; stroke-linejoin:round; stroke-width:2; stroke-opacity:0.1; fill:none\" points=\"186.274,766.846 2352.76,766.846 \"/>\n",
       "<polyline clip-path=\"url(#clip792)\" style=\"stroke:#000000; stroke-linecap:round; stroke-linejoin:round; stroke-width:2; stroke-opacity:0.1; fill:none\" points=\"186.274,427.411 2352.76,427.411 \"/>\n",
       "<polyline clip-path=\"url(#clip792)\" style=\"stroke:#000000; stroke-linecap:round; stroke-linejoin:round; stroke-width:2; stroke-opacity:0.1; fill:none\" points=\"186.274,87.9763 2352.76,87.9763 \"/>\n",
       "<polyline clip-path=\"url(#clip790)\" style=\"stroke:#000000; stroke-linecap:round; stroke-linejoin:round; stroke-width:4; stroke-opacity:1; fill:none\" points=\"186.274,1486.45 186.274,47.2441 \"/>\n",
       "<polyline clip-path=\"url(#clip790)\" style=\"stroke:#000000; stroke-linecap:round; stroke-linejoin:round; stroke-width:4; stroke-opacity:1; fill:none\" points=\"186.274,1445.72 205.172,1445.72 \"/>\n",
       "<polyline clip-path=\"url(#clip790)\" style=\"stroke:#000000; stroke-linecap:round; stroke-linejoin:round; stroke-width:4; stroke-opacity:1; fill:none\" points=\"186.274,1106.28 205.172,1106.28 \"/>\n",
       "<polyline clip-path=\"url(#clip790)\" style=\"stroke:#000000; stroke-linecap:round; stroke-linejoin:round; stroke-width:4; stroke-opacity:1; fill:none\" points=\"186.274,766.846 205.172,766.846 \"/>\n",
       "<polyline clip-path=\"url(#clip790)\" style=\"stroke:#000000; stroke-linecap:round; stroke-linejoin:round; stroke-width:4; stroke-opacity:1; fill:none\" points=\"186.274,427.411 205.172,427.411 \"/>\n",
       "<polyline clip-path=\"url(#clip790)\" style=\"stroke:#000000; stroke-linecap:round; stroke-linejoin:round; stroke-width:4; stroke-opacity:1; fill:none\" points=\"186.274,87.9763 205.172,87.9763 \"/>\n",
       "<path clip-path=\"url(#clip790)\" d=\"M62.9365 1431.51 Q59.3254 1431.51 57.4967 1435.08 Q55.6912 1438.62 55.6912 1445.75 Q55.6912 1452.86 57.4967 1456.42 Q59.3254 1459.96 62.9365 1459.96 Q66.5707 1459.96 68.3763 1456.42 Q70.205 1452.86 70.205 1445.75 Q70.205 1438.62 68.3763 1435.08 Q66.5707 1431.51 62.9365 1431.51 M62.9365 1427.81 Q68.7467 1427.81 71.8022 1432.42 Q74.8809 1437 74.8809 1445.75 Q74.8809 1454.48 71.8022 1459.08 Q68.7467 1463.67 62.9365 1463.67 Q57.1264 1463.67 54.0477 1459.08 Q50.9921 1454.48 50.9921 1445.75 Q50.9921 1437 54.0477 1432.42 Q57.1264 1427.81 62.9365 1427.81 Z\" fill=\"#000000\" fill-rule=\"evenodd\" fill-opacity=\"1\" /><path clip-path=\"url(#clip790)\" d=\"M83.0984 1457.12 L87.9827 1457.12 L87.9827 1463 L83.0984 1463 L83.0984 1457.12 Z\" fill=\"#000000\" fill-rule=\"evenodd\" fill-opacity=\"1\" /><path clip-path=\"url(#clip790)\" d=\"M108.168 1431.51 Q104.557 1431.51 102.728 1435.08 Q100.922 1438.62 100.922 1445.75 Q100.922 1452.86 102.728 1456.42 Q104.557 1459.96 108.168 1459.96 Q111.802 1459.96 113.608 1456.42 Q115.436 1452.86 115.436 1445.75 Q115.436 1438.62 113.608 1435.08 Q111.802 1431.51 108.168 1431.51 M108.168 1427.81 Q113.978 1427.81 117.033 1432.42 Q120.112 1437 120.112 1445.75 Q120.112 1454.48 117.033 1459.08 Q113.978 1463.67 108.168 1463.67 Q102.358 1463.67 99.2789 1459.08 Q96.2234 1454.48 96.2234 1445.75 Q96.2234 1437 99.2789 1432.42 Q102.358 1427.81 108.168 1427.81 Z\" fill=\"#000000\" fill-rule=\"evenodd\" fill-opacity=\"1\" /><path clip-path=\"url(#clip790)\" d=\"M138.33 1431.51 Q134.719 1431.51 132.89 1435.08 Q131.084 1438.62 131.084 1445.75 Q131.084 1452.86 132.89 1456.42 Q134.719 1459.96 138.33 1459.96 Q141.964 1459.96 143.769 1456.42 Q145.598 1452.86 145.598 1445.75 Q145.598 1438.62 143.769 1435.08 Q141.964 1431.51 138.33 1431.51 M138.33 1427.81 Q144.14 1427.81 147.195 1432.42 Q150.274 1437 150.274 1445.75 Q150.274 1454.48 147.195 1459.08 Q144.14 1463.67 138.33 1463.67 Q132.519 1463.67 129.441 1459.08 Q126.385 1454.48 126.385 1445.75 Q126.385 1437 129.441 1432.42 Q132.519 1427.81 138.33 1427.81 Z\" fill=\"#000000\" fill-rule=\"evenodd\" fill-opacity=\"1\" /><path clip-path=\"url(#clip790)\" d=\"M63.9319 1092.08 Q60.3208 1092.08 58.4921 1095.64 Q56.6865 1099.19 56.6865 1106.32 Q56.6865 1113.42 58.4921 1116.99 Q60.3208 1120.53 63.9319 1120.53 Q67.5661 1120.53 69.3717 1116.99 Q71.2004 1113.42 71.2004 1106.32 Q71.2004 1099.19 69.3717 1095.64 Q67.5661 1092.08 63.9319 1092.08 M63.9319 1088.38 Q69.742 1088.38 72.7976 1092.98 Q75.8763 1097.57 75.8763 1106.32 Q75.8763 1115.04 72.7976 1119.65 Q69.742 1124.23 63.9319 1124.23 Q58.1217 1124.23 55.043 1119.65 Q51.9875 1115.04 51.9875 1106.32 Q51.9875 1097.57 55.043 1092.98 Q58.1217 1088.38 63.9319 1088.38 Z\" fill=\"#000000\" fill-rule=\"evenodd\" fill-opacity=\"1\" /><path clip-path=\"url(#clip790)\" d=\"M84.0938 1117.68 L88.978 1117.68 L88.978 1123.56 L84.0938 1123.56 L84.0938 1117.68 Z\" fill=\"#000000\" fill-rule=\"evenodd\" fill-opacity=\"1\" /><path clip-path=\"url(#clip790)\" d=\"M103.191 1119.63 L119.51 1119.63 L119.51 1123.56 L97.566 1123.56 L97.566 1119.63 Q100.228 1116.87 104.811 1112.24 Q109.418 1107.59 110.598 1106.25 Q112.844 1103.72 113.723 1101.99 Q114.626 1100.23 114.626 1098.54 Q114.626 1095.78 112.682 1094.05 Q110.76 1092.31 107.658 1092.31 Q105.459 1092.31 103.006 1093.07 Q100.575 1093.84 97.7974 1095.39 L97.7974 1090.67 Q100.621 1089.53 103.075 1088.95 Q105.529 1088.38 107.566 1088.38 Q112.936 1088.38 116.131 1091.06 Q119.325 1093.75 119.325 1098.24 Q119.325 1100.37 118.515 1102.29 Q117.728 1104.19 115.621 1106.78 Q115.043 1107.45 111.941 1110.67 Q108.839 1113.86 103.191 1119.63 Z\" fill=\"#000000\" fill-rule=\"evenodd\" fill-opacity=\"1\" /><path clip-path=\"url(#clip790)\" d=\"M129.371 1089 L147.728 1089 L147.728 1092.94 L133.654 1092.94 L133.654 1101.41 Q134.672 1101.06 135.691 1100.9 Q136.709 1100.71 137.728 1100.71 Q143.515 1100.71 146.894 1103.89 Q150.274 1107.06 150.274 1112.47 Q150.274 1118.05 146.802 1121.15 Q143.33 1124.23 137.01 1124.23 Q134.834 1124.23 132.566 1123.86 Q130.32 1123.49 127.913 1122.75 L127.913 1118.05 Q129.996 1119.19 132.219 1119.74 Q134.441 1120.3 136.918 1120.3 Q140.922 1120.3 143.26 1118.19 Q145.598 1116.08 145.598 1112.47 Q145.598 1108.86 143.26 1106.76 Q140.922 1104.65 136.918 1104.65 Q135.043 1104.65 133.168 1105.07 Q131.316 1105.48 129.371 1106.36 L129.371 1089 Z\" fill=\"#000000\" fill-rule=\"evenodd\" fill-opacity=\"1\" /><path clip-path=\"url(#clip790)\" d=\"M62.9365 752.645 Q59.3254 752.645 57.4967 756.209 Q55.6912 759.751 55.6912 766.881 Q55.6912 773.987 57.4967 777.552 Q59.3254 781.094 62.9365 781.094 Q66.5707 781.094 68.3763 777.552 Q70.205 773.987 70.205 766.881 Q70.205 759.751 68.3763 756.209 Q66.5707 752.645 62.9365 752.645 M62.9365 748.941 Q68.7467 748.941 71.8022 753.547 Q74.8809 758.131 74.8809 766.881 Q74.8809 775.608 71.8022 780.214 Q68.7467 784.797 62.9365 784.797 Q57.1264 784.797 54.0477 780.214 Q50.9921 775.608 50.9921 766.881 Q50.9921 758.131 54.0477 753.547 Q57.1264 748.941 62.9365 748.941 Z\" fill=\"#000000\" fill-rule=\"evenodd\" fill-opacity=\"1\" /><path clip-path=\"url(#clip790)\" d=\"M83.0984 778.246 L87.9827 778.246 L87.9827 784.126 L83.0984 784.126 L83.0984 778.246 Z\" fill=\"#000000\" fill-rule=\"evenodd\" fill-opacity=\"1\" /><path clip-path=\"url(#clip790)\" d=\"M98.2141 749.566 L116.57 749.566 L116.57 753.501 L102.496 753.501 L102.496 761.973 Q103.515 761.626 104.534 761.464 Q105.552 761.279 106.571 761.279 Q112.358 761.279 115.737 764.45 Q119.117 767.621 119.117 773.038 Q119.117 778.617 115.645 781.719 Q112.172 784.797 105.853 784.797 Q103.677 784.797 101.409 784.427 Q99.1632 784.057 96.7558 783.316 L96.7558 778.617 Q98.8391 779.751 101.061 780.307 Q103.284 780.862 105.76 780.862 Q109.765 780.862 112.103 778.756 Q114.441 776.649 114.441 773.038 Q114.441 769.427 112.103 767.321 Q109.765 765.214 105.76 765.214 Q103.885 765.214 102.01 765.631 Q100.159 766.047 98.2141 766.927 L98.2141 749.566 Z\" fill=\"#000000\" fill-rule=\"evenodd\" fill-opacity=\"1\" /><path clip-path=\"url(#clip790)\" d=\"M138.33 752.645 Q134.719 752.645 132.89 756.209 Q131.084 759.751 131.084 766.881 Q131.084 773.987 132.89 777.552 Q134.719 781.094 138.33 781.094 Q141.964 781.094 143.769 777.552 Q145.598 773.987 145.598 766.881 Q145.598 759.751 143.769 756.209 Q141.964 752.645 138.33 752.645 M138.33 748.941 Q144.14 748.941 147.195 753.547 Q150.274 758.131 150.274 766.881 Q150.274 775.608 147.195 780.214 Q144.14 784.797 138.33 784.797 Q132.519 784.797 129.441 780.214 Q126.385 775.608 126.385 766.881 Q126.385 758.131 129.441 753.547 Q132.519 748.941 138.33 748.941 Z\" fill=\"#000000\" fill-rule=\"evenodd\" fill-opacity=\"1\" /><path clip-path=\"url(#clip790)\" d=\"M63.9319 413.21 Q60.3208 413.21 58.4921 416.775 Q56.6865 420.316 56.6865 427.446 Q56.6865 434.552 58.4921 438.117 Q60.3208 441.659 63.9319 441.659 Q67.5661 441.659 69.3717 438.117 Q71.2004 434.552 71.2004 427.446 Q71.2004 420.316 69.3717 416.775 Q67.5661 413.21 63.9319 413.21 M63.9319 409.506 Q69.742 409.506 72.7976 414.113 Q75.8763 418.696 75.8763 427.446 Q75.8763 436.173 72.7976 440.779 Q69.742 445.362 63.9319 445.362 Q58.1217 445.362 55.043 440.779 Q51.9875 436.173 51.9875 427.446 Q51.9875 418.696 55.043 414.113 Q58.1217 409.506 63.9319 409.506 Z\" fill=\"#000000\" fill-rule=\"evenodd\" fill-opacity=\"1\" /><path clip-path=\"url(#clip790)\" d=\"M84.0938 438.812 L88.978 438.812 L88.978 444.691 L84.0938 444.691 L84.0938 438.812 Z\" fill=\"#000000\" fill-rule=\"evenodd\" fill-opacity=\"1\" /><path clip-path=\"url(#clip790)\" d=\"M97.9826 410.131 L120.205 410.131 L120.205 412.122 L107.658 444.691 L102.774 444.691 L114.58 414.066 L97.9826 414.066 L97.9826 410.131 Z\" fill=\"#000000\" fill-rule=\"evenodd\" fill-opacity=\"1\" /><path clip-path=\"url(#clip790)\" d=\"M129.371 410.131 L147.728 410.131 L147.728 414.066 L133.654 414.066 L133.654 422.538 Q134.672 422.191 135.691 422.029 Q136.709 421.844 137.728 421.844 Q143.515 421.844 146.894 425.015 Q150.274 428.187 150.274 433.603 Q150.274 439.182 146.802 442.284 Q143.33 445.362 137.01 445.362 Q134.834 445.362 132.566 444.992 Q130.32 444.622 127.913 443.881 L127.913 439.182 Q129.996 440.316 132.219 440.872 Q134.441 441.427 136.918 441.427 Q140.922 441.427 143.26 439.321 Q145.598 437.214 145.598 433.603 Q145.598 429.992 143.26 427.886 Q140.922 425.779 136.918 425.779 Q135.043 425.779 133.168 426.196 Q131.316 426.613 129.371 427.492 L129.371 410.131 Z\" fill=\"#000000\" fill-rule=\"evenodd\" fill-opacity=\"1\" /><path clip-path=\"url(#clip790)\" d=\"M53.7467 101.321 L61.3856 101.321 L61.3856 74.9555 L53.0754 76.6222 L53.0754 72.3629 L61.3393 70.6963 L66.0152 70.6963 L66.0152 101.321 L73.654 101.321 L73.654 105.256 L53.7467 105.256 L53.7467 101.321 Z\" fill=\"#000000\" fill-rule=\"evenodd\" fill-opacity=\"1\" /><path clip-path=\"url(#clip790)\" d=\"M83.0984 99.3767 L87.9827 99.3767 L87.9827 105.256 L83.0984 105.256 L83.0984 99.3767 Z\" fill=\"#000000\" fill-rule=\"evenodd\" fill-opacity=\"1\" /><path clip-path=\"url(#clip790)\" d=\"M108.168 73.775 Q104.557 73.775 102.728 77.3398 Q100.922 80.8814 100.922 88.011 Q100.922 95.1174 102.728 98.6822 Q104.557 102.224 108.168 102.224 Q111.802 102.224 113.608 98.6822 Q115.436 95.1174 115.436 88.011 Q115.436 80.8814 113.608 77.3398 Q111.802 73.775 108.168 73.775 M108.168 70.0713 Q113.978 70.0713 117.033 74.6777 Q120.112 79.261 120.112 88.011 Q120.112 96.7378 117.033 101.344 Q113.978 105.928 108.168 105.928 Q102.358 105.928 99.2789 101.344 Q96.2234 96.7378 96.2234 88.011 Q96.2234 79.261 99.2789 74.6777 Q102.358 70.0713 108.168 70.0713 Z\" fill=\"#000000\" fill-rule=\"evenodd\" fill-opacity=\"1\" /><path clip-path=\"url(#clip790)\" d=\"M138.33 73.775 Q134.719 73.775 132.89 77.3398 Q131.084 80.8814 131.084 88.011 Q131.084 95.1174 132.89 98.6822 Q134.719 102.224 138.33 102.224 Q141.964 102.224 143.769 98.6822 Q145.598 95.1174 145.598 88.011 Q145.598 80.8814 143.769 77.3398 Q141.964 73.775 138.33 73.775 M138.33 70.0713 Q144.14 70.0713 147.195 74.6777 Q150.274 79.261 150.274 88.011 Q150.274 96.7378 147.195 101.344 Q144.14 105.928 138.33 105.928 Q132.519 105.928 129.441 101.344 Q126.385 96.7378 126.385 88.011 Q126.385 79.261 129.441 74.6777 Q132.519 70.0713 138.33 70.0713 Z\" fill=\"#000000\" fill-rule=\"evenodd\" fill-opacity=\"1\" /><circle clip-path=\"url(#clip792)\" cx=\"1851.62\" cy=\"87.9763\" r=\"14.4\" fill=\"#009af9\" fill-rule=\"evenodd\" fill-opacity=\"1\" stroke=\"#000000\" stroke-opacity=\"1\" stroke-width=\"3.2\"/>\n",
       "<circle clip-path=\"url(#clip792)\" cx=\"1153.09\" cy=\"87.9763\" r=\"14.4\" fill=\"#009af9\" fill-rule=\"evenodd\" fill-opacity=\"1\" stroke=\"#000000\" stroke-opacity=\"1\" stroke-width=\"3.2\"/>\n",
       "<circle clip-path=\"url(#clip792)\" cx=\"1437.68\" cy=\"87.9763\" r=\"14.4\" fill=\"#009af9\" fill-rule=\"evenodd\" fill-opacity=\"1\" stroke=\"#000000\" stroke-opacity=\"1\" stroke-width=\"3.2\"/>\n",
       "<circle clip-path=\"url(#clip792)\" cx=\"790.892\" cy=\"87.9763\" r=\"14.4\" fill=\"#009af9\" fill-rule=\"evenodd\" fill-opacity=\"1\" stroke=\"#000000\" stroke-opacity=\"1\" stroke-width=\"3.2\"/>\n",
       "<circle clip-path=\"url(#clip792)\" cx=\"2291.44\" cy=\"87.9763\" r=\"14.4\" fill=\"#009af9\" fill-rule=\"evenodd\" fill-opacity=\"1\" stroke=\"#000000\" stroke-opacity=\"1\" stroke-width=\"3.2\"/>\n",
       "<circle clip-path=\"url(#clip792)\" cx=\"713.277\" cy=\"87.9763\" r=\"14.4\" fill=\"#009af9\" fill-rule=\"evenodd\" fill-opacity=\"1\" stroke=\"#000000\" stroke-opacity=\"1\" stroke-width=\"3.2\"/>\n",
       "<circle clip-path=\"url(#clip792)\" cx=\"946.121\" cy=\"87.9763\" r=\"14.4\" fill=\"#009af9\" fill-rule=\"evenodd\" fill-opacity=\"1\" stroke=\"#000000\" stroke-opacity=\"1\" stroke-width=\"3.2\"/>\n",
       "<circle clip-path=\"url(#clip792)\" cx=\"842.635\" cy=\"87.9763\" r=\"14.4\" fill=\"#009af9\" fill-rule=\"evenodd\" fill-opacity=\"1\" stroke=\"#000000\" stroke-opacity=\"1\" stroke-width=\"3.2\"/>\n",
       "<circle clip-path=\"url(#clip792)\" cx=\"1851.62\" cy=\"87.9763\" r=\"14.4\" fill=\"#009af9\" fill-rule=\"evenodd\" fill-opacity=\"1\" stroke=\"#000000\" stroke-opacity=\"1\" stroke-width=\"3.2\"/>\n",
       "<circle clip-path=\"url(#clip792)\" cx=\"687.406\" cy=\"87.9763\" r=\"14.4\" fill=\"#009af9\" fill-rule=\"evenodd\" fill-opacity=\"1\" stroke=\"#000000\" stroke-opacity=\"1\" stroke-width=\"3.2\"/>\n",
       "<circle clip-path=\"url(#clip792)\" cx=\"273.461\" cy=\"1445.72\" r=\"14.4\" fill=\"#009af9\" fill-rule=\"evenodd\" fill-opacity=\"1\" stroke=\"#000000\" stroke-opacity=\"1\" stroke-width=\"3.2\"/>\n",
       "<circle clip-path=\"url(#clip792)\" cx=\"299.333\" cy=\"1445.72\" r=\"14.4\" fill=\"#009af9\" fill-rule=\"evenodd\" fill-opacity=\"1\" stroke=\"#000000\" stroke-opacity=\"1\" stroke-width=\"3.2\"/>\n",
       "<circle clip-path=\"url(#clip792)\" cx=\"506.305\" cy=\"1445.72\" r=\"14.4\" fill=\"#009af9\" fill-rule=\"evenodd\" fill-opacity=\"1\" stroke=\"#000000\" stroke-opacity=\"1\" stroke-width=\"3.2\"/>\n",
       "<circle clip-path=\"url(#clip792)\" cx=\"583.919\" cy=\"1445.72\" r=\"14.4\" fill=\"#009af9\" fill-rule=\"evenodd\" fill-opacity=\"1\" stroke=\"#000000\" stroke-opacity=\"1\" stroke-width=\"3.2\"/>\n",
       "<circle clip-path=\"url(#clip792)\" cx=\"351.076\" cy=\"1445.72\" r=\"14.4\" fill=\"#009af9\" fill-rule=\"evenodd\" fill-opacity=\"1\" stroke=\"#000000\" stroke-opacity=\"1\" stroke-width=\"3.2\"/>\n",
       "<circle clip-path=\"url(#clip792)\" cx=\"428.69\" cy=\"1445.72\" r=\"14.4\" fill=\"#009af9\" fill-rule=\"evenodd\" fill-opacity=\"1\" stroke=\"#000000\" stroke-opacity=\"1\" stroke-width=\"3.2\"/>\n",
       "<circle clip-path=\"url(#clip792)\" cx=\"247.59\" cy=\"1445.72\" r=\"14.4\" fill=\"#009af9\" fill-rule=\"evenodd\" fill-opacity=\"1\" stroke=\"#000000\" stroke-opacity=\"1\" stroke-width=\"3.2\"/>\n",
       "<circle clip-path=\"url(#clip792)\" cx=\"532.176\" cy=\"1445.72\" r=\"14.4\" fill=\"#009af9\" fill-rule=\"evenodd\" fill-opacity=\"1\" stroke=\"#000000\" stroke-opacity=\"1\" stroke-width=\"3.2\"/>\n",
       "<path clip-path=\"url(#clip790)\" d=\"M2011.46 1438.47 L2280.54 1438.47 L2280.54 1334.79 L2011.46 1334.79  Z\" fill=\"#ffffff\" fill-rule=\"evenodd\" fill-opacity=\"1\"/>\n",
       "<polyline clip-path=\"url(#clip790)\" style=\"stroke:#000000; stroke-linecap:round; stroke-linejoin:round; stroke-width:4; stroke-opacity:1; fill:none\" points=\"2011.46,1438.47 2280.54,1438.47 2280.54,1334.79 2011.46,1334.79 2011.46,1438.47 \"/>\n",
       "<circle clip-path=\"url(#clip790)\" cx=\"2107.75\" cy=\"1386.63\" r=\"23.04\" fill=\"#009af9\" fill-rule=\"evenodd\" fill-opacity=\"1\" stroke=\"#000000\" stroke-opacity=\"1\" stroke-width=\"5.12\"/>\n",
       "<path clip-path=\"url(#clip790)\" d=\"M2217.88 1406.32 Q2216.07 1410.95 2214.36 1412.36 Q2212.65 1413.78 2209.78 1413.78 L2206.38 1413.78 L2206.38 1410.21 L2208.88 1410.21 Q2210.63 1410.21 2211.61 1409.38 Q2212.58 1408.54 2213.76 1405.44 L2214.52 1403.5 L2204.04 1377.99 L2208.55 1377.99 L2216.65 1398.27 L2224.76 1377.99 L2229.27 1377.99 L2217.88 1406.32 Z\" fill=\"#000000\" fill-rule=\"evenodd\" fill-opacity=\"1\" /><path clip-path=\"url(#clip790)\" d=\"M2236.56 1399.98 L2244.2 1399.98 L2244.2 1373.61 L2235.89 1375.28 L2235.89 1371.02 L2244.15 1369.35 L2248.83 1369.35 L2248.83 1399.98 L2256.47 1399.98 L2256.47 1403.91 L2236.56 1403.91 L2236.56 1399.98 Z\" fill=\"#000000\" fill-rule=\"evenodd\" fill-opacity=\"1\" /></svg>\n"
      ]
     },
     "execution_count": 4,
     "metadata": {},
     "output_type": "execute_result"
    }
   ],
   "source": [
    "scatter(df.price, df.camera_mp)"
   ]
  },
  {
   "cell_type": "code",
   "execution_count": 5,
   "id": "0f01ad8d-9323-4c33-b97e-5f41b4411de8",
   "metadata": {},
   "outputs": [
    {
     "data": {
      "text/plain": [
       "StatsModels.TableRegressionModel{GeneralizedLinearModel{GLM.GlmResp{Vector{Float64}, Binomial{Float64}, LogitLink}, GLM.DensePredChol{Float64, LinearAlgebra.CholeskyPivoted{Float64, Matrix{Float64}, Vector{Int64}}}}, Matrix{Float64}}\n",
       "\n",
       "camera_mp ~ 1 + price\n",
       "\n",
       "Coefficients:\n",
       "────────────────────────────────────────────────────────────────────────────\n",
       "                   Coef.  Std. Error      z  Pr(>|z|)   Lower 95%  Upper 95%\n",
       "────────────────────────────────────────────────────────────────────────────\n",
       "(Intercept)  -349.418     36976.7     -0.01    0.9925  -72822.5    72123.7\n",
       "price           0.831995     88.0227   0.01    0.9925    -171.689    173.353\n",
       "────────────────────────────────────────────────────────────────────────────"
      ]
     },
     "execution_count": 5,
     "metadata": {},
     "output_type": "execute_result"
    }
   ],
   "source": [
    "model = glm(@formula(camera_mp ~ price), df, Binomial(), LogitLink())"
   ]
  },
  {
   "cell_type": "code",
   "execution_count": 6,
   "id": "e1fc2e52-82b5-473a-b687-155006d4a661",
   "metadata": {},
   "outputs": [
    {
     "data": {
      "text/plain": [
       "9-element Vector{Union{Missing, Float64}}:\n",
       " 1.4747798971506998e-11\n",
       " 6.053923997767052e-8\n",
       " 0.00024844991845192246\n",
       " 0.5049829480810379\n",
       " 0.9997612573735242\n",
       " 0.9999999418266791\n",
       " 1.0\n",
       " 1.0\n",
       " 1.0"
      ]
     },
     "execution_count": 6,
     "metadata": {},
     "output_type": "execute_result"
    }
   ],
   "source": [
    "predict(model, DataFrame(price=[390, 400, 410, 420, 430, 440, 990, 882, 750]))"
   ]
  },
  {
   "cell_type": "markdown",
   "id": "d5d9d786-2b6b-478c-9ecd-12b95f3edbba",
   "metadata": {},
   "source": [
    "Taking the output, we take < 0.5 as class 0, and > 0.5 as class 1"
   ]
  }
 ],
 "metadata": {
  "kernelspec": {
   "display_name": "Julia 1.8.5",
   "language": "julia",
   "name": "julia-1.8"
  },
  "language_info": {
   "file_extension": ".jl",
   "mimetype": "application/julia",
   "name": "julia",
   "version": "1.8.5"
  }
 },
 "nbformat": 4,
 "nbformat_minor": 5
}
